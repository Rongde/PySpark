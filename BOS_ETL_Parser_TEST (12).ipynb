{
 "metadata": {
  "kernelspec": {
   "name": "python3",
   "language": "python",
   "display_name": "Python 3 (ipykernel)"
  },
  "language_info": {
   "name": "Python_Glue_Session",
   "mimetype": "text/x-python",
   "codemirror_mode": {
    "name": "python",
    "version": 3
   },
   "pygments_lexer": "python3",
   "file_extension": ".py"
  }
 },
 "nbformat_minor": 4,
 "nbformat": 4,
 "cells": [
  {
   "cell_type": "code",
   "source": [
    "%help"
   ],
   "metadata": {
    "editable": true,
    "trusted": true,
    "pycharm": {
     "name": "#%%\n"
    }
   },
   "execution_count": 2,
   "outputs": [
    {
     "name": "stdout",
     "text": "Welcome to the Glue Interactive Sessions Kernel\nFor more information on available magic commands, please type %help in any new cell.\n\nPlease view our Getting Started page to access the most up-to-date information on the Interactive Sessions kernel: https://docs.aws.amazon.com/glue/latest/dg/interactive-sessions.html\nInstalled kernel version: 0.37.3 \n",
     "output_type": "stream"
    },
    {
     "output_type": "display_data",
     "data": {
      "text/markdown": "\n# Available Magic Commands\n\n## Sessions Magic\n\n----\n    %help                             Return a list of descriptions and input types for all magic commands. \n    %profile            String        Specify a profile in your aws configuration to use as the credentials provider.\n    %region             String        Specify the AWS region in which to initialize a session. \n                                      Default from ~/.aws/config on Linux or macOS, \n                                      or C:\\Users\\ USERNAME \\.aws\\config\" on Windows.\n    %idle_timeout       Int           The number of minutes of inactivity after which a session will timeout. \n                                      Default: 2880 minutes (48 hours).\n    %session_id_prefix  String        Define a String that will precede all session IDs in the format \n                                      [session_id_prefix]-[session_id]. If a session ID is not provided,\n                                      a random UUID will be generated.\n    %status                           Returns the status of the current Glue session including its duration, \n                                      configuration and executing user / role.\n    %session_id                       Returns the session ID for the running session. \n    %list_sessions                    Lists all currently running sessions by ID.\n    %stop_session                     Stops the current session.\n    %glue_version       String        The version of Glue to be used by this session. \n                                      Currently, the only valid options are 2.0 and 3.0. \n                                      Default: 2.0.\n----\n\n## Selecting Job Types\n\n----\n    %streaming          String        Sets the session type to Glue Streaming.\n    %etl                String        Sets the session type to Glue ETL.\n    %glue_ray           String        Sets the session type to Glue Ray.\n----\n\n## Glue Config Magic \n*(common across all job types)*\n\n----\n\n    %%configure         Dictionary    A json-formatted dictionary consisting of all configuration parameters for \n                                      a session. Each parameter can be specified here or through individual magics.\n    %iam_role           String        Specify an IAM role ARN to execute your session with.\n                                      Default from ~/.aws/config on Linux or macOS, \n                                      or C:\\Users\\%USERNAME%\\.aws\\config` on Windows.\n    %number_of_workers  int           The number of workers of a defined worker_type that are allocated \n                                      when a session runs.\n                                      Default: 5.\n    %additional_python_modules  List  Comma separated list of additional Python modules to include in your cluster \n                                      (can be from Pypi or S3).\n----\n\n                                      \n## Magic for Spark Jobs (ETL & Streaming)\n\n----\n    %worker_type        String        Set the type of instances the session will use as workers. \n                                      ETL and Streaming support G.1X, G.2X, G.4X and G.8X. \n                                      Default: G.1X.\n    %connections        List          Specify a comma separated list of connections to use in the session.\n    %extra_py_files     List          Comma separated list of additional Python files From S3.\n    %extra_jars         List          Comma separated list of additional Jars to include in the cluster.\n    %spark_conf         String        Specify custom spark configurations for your session. \n                                      E.g. %spark_conf spark.serializer=org.apache.spark.serializer.KryoSerializer\n----\n                                      \n## Magic for Ray Job\n\n----\n    %min_workers        Int           The minimum number of workers that are allocated to a Ray job. \n                                      Default: 1.\n    %object_memory_head Int           The percentage of free memory on the instance head node after a warm start. \n                                      Minimum: 0. Maximum: 100.\n    %object_memory_worker Int         The percentage of free memory on the instance worker nodes after a warm start. \n                                      Minimum: 0. Maximum: 100.\n----\n\n## Action Magic\n\n----\n\n    %%sql               String        Run SQL code. All lines after the initial %%sql magic will be passed\n                                      as part of the SQL code.  \n----\n\n"
     },
     "metadata": {}
    }
   ]
  },
  {
   "cell_type": "code",
   "source": [
    "# import boto3\n",
    "# import logging\n",
    "# import csv\n",
    "# import s3fs\n",
    "#\n",
    "# from boto3 import client\n",
    "# from boto3.dynamodb.conditions import Key\n",
    "# from botocore.exceptions import ClientError\n",
    "# from pyspark.sql.types import ArrayType, StringType\n",
    "# from pyspark.sql.functions import udf\n",
    "# import re\n",
    "#\n",
    "#\n",
    "# s3 = boto3.client('s3')\n",
    "#\n",
    "# file = s3.get_object(Bucket='bos-etl', Key='06.07_DCALLRECORDSAM')\n",
    "#\n",
    "# # file = s3.get_object(Bucket='flex-data-uat-canda-central', Key='PREPROD/data/supplier/web/upload/1791/20230628/06.07_DCALLRECORDSAM')\n",
    "#\n",
    "#\n",
    "# txt = (file['Body'].read().decode('latin1'))\n",
    "# #st_re = txt.replace(\"\", \",\")\n",
    "# st_re_newline = txt.replace(\"!!! EOS !!!\", \"\\n\")\n",
    "# st_re_split = st_re_newline.split(\"\\n\")\n",
    "#\n",
    "# #csv_reader = csv.reader(lines, delimiter='\\n', quoting=csv.QUOTE_NONE)\n",
    "# #print(st_re_split[0])\n",
    "# #lines.head(self, n=5)"
   ],
   "metadata": {
    "editable": true,
    "trusted": true,
    "pycharm": {
     "name": "#%%\n"
    }
   },
   "execution_count": 20,
   "outputs": [
    {
     "name": "stdout",
     "text": "\n",
     "output_type": "stream"
    }
   ]
  },
  {
   "cell_type": "code",
   "source": [
    "# import sys\n",
    "# from awsglue.transforms import *\n",
    "# from awsglue.utils import getResolvedOptions\n",
    "# from pyspark.context import SparkContext\n",
    "# from awsglue.context import GlueContext\n",
    "# from awsglue.job import Job\n",
    "#\n",
    "# ## @params: [JOB_NAME]\n",
    "# args = getResolvedOptions(sys.argv, ['JOB_NAME'])\n",
    "#\n",
    "# sc = SparkContext()\n",
    "# glueContext = GlueContext(sc)\n",
    "# spark = glueContext.spark_session\n",
    "# job = Job(glueContext)\n",
    "# job.init(args['JOB_NAME'], args)"
   ],
   "metadata": {
    "trusted": true,
    "pycharm": {
     "name": "#%%\n"
    }
   },
   "execution_count": 3,
   "outputs": [
    {
     "name": "stdout",
     "text": "GlueArgumentError: the following arguments are required: --JOB_NAME\n",
     "output_type": "stream"
    }
   ]
  },
  {
   "cell_type": "code",
   "source": [
    "# import pandas as pd\n",
    "# from pyspark.sql.functions import regexp_extract, trim, lit\n",
    "# # df = pd.DataFrame(st_re_split).head(200)\n",
    "# df = pd.DataFrame(st_re_split)\n",
    "# # k1 = 0\n",
    "# # k = 200\n",
    "# # df = pd.DataFrame(st_re_split).loc[k1:k][:]\n",
    "# #print(df)\n",
    "# df.index.name = 'ROW_ID'\n",
    "# df.rename({0:'BOS_FILE_EXTRACT'},axis='columns',inplace=True)\n",
    "# df[\"COLUMN_DEF\"]=df['BOS_FILE_EXTRACT'].replace(regex=r\"\\.*\",value=\"\")\n",
    "#\n",
    "# #rslt_dfRFT = df[df['COLUMN_DEF'].isin(['RFT','PAX','PAT'])]\n",
    "# rslt_dfRFT = df[df['COLUMN_DEF'] =='PAT']\n",
    "# #df3 = rslt_dfRFT['BOS_FILE_EXTRACT'].str.split(',', expand=True).rename(columns=lambda i: f'item{i + 1}')\n",
    "# #print(rslt_dfRFT)\n",
    "# #rslt_dfRFT.withColumn(\"A\", F.regexp_replace(F.col(\"A\"), replace_regex, \"\"))"
   ],
   "metadata": {
    "trusted": true,
    "pycharm": {
     "name": "#%%\n"
    }
   },
   "execution_count": 21,
   "outputs": [
    {
     "name": "stdout",
     "text": "\n",
     "output_type": "stream"
    }
   ]
  },
  {
   "cell_type": "code",
   "source": [
    "# from pyspark.sql import SparkSession\n",
    "# #Create PySpark SparkSession\n",
    "# spark = SparkSession.builder \\\n",
    "#     .master(\"local[*]\") \\\n",
    "#     .appName(\"SparkByExamples.com\") \\\n",
    "#     .getOrCreate()\n",
    "# #Create PySpark DataFrame from Pandas\n",
    "# sparkDF=spark.createDataFrame(rslt_dfRFT)"
   ],
   "metadata": {
    "trusted": true,
    "pycharm": {
     "name": "#%%\n"
    }
   },
   "execution_count": 22,
   "outputs": [
    {
     "name": "stdout",
     "text": "\n",
     "output_type": "stream"
    }
   ]
  },
  {
   "cell_type": "code",
   "source": [
    "# from pyspark.sql import functions as F\n",
    "# from pyspark.sql.functions import length,col, explode, upper, to_date, date_sub, lag, coalesce, lit, array_sort, when, arrays_zip, size, date_format, explode_outer, from_json, concat, expr, array\n",
    "# import pyspark.sql.functions as f\n",
    "# from pyspark.sql.types import *\n",
    "# from pyspark.sql.utils import AnalysisException\n",
    "# from operator import itemgetter\n",
    "# import datetime, re, requests\n",
    "# from pyspark.sql import Window\n",
    "# from pyspark.sql.functions import concat, col, lit\n",
    "#\n",
    "# df1 = sparkDF.withColumn(\"split\", F.split(\"BOS_FILE_EXTRACT\", \"<\")).withColumn(\"ITI\", F.element_at(\"split\", 2)).withColumn(\"FAR\", F.element_at(\"split\", 3))\\\n",
    "# .withColumn(\"FOP_AND_FAR2\", F.element_at(\"split\", 4)).withColumn(\"END\", F.element_at(\"split\", 5)).withColumn(\"CER\", F.element_at(\"split\", 6))\\\n",
    "# .withColumn(\"EXC\", F.element_at(\"split\", 7))\\\n",
    "# .withColumn(\"split2\", F.split(\"BOS_FILE_EXTRACT\", \"<\")).withColumn(\"DCI\", F.element_at(\"split2\", 1)).withColumn(\"SAL\", F.element_at(\"split2\", 2))\\\n",
    "# .withColumn(\"EXS\", F.element_at(\"split2\", -1))\\\n",
    "# .withColumn(\"split3\", F.split(\"BOS_FILE_EXTRACT\", \"<\")).withColumn(\"TAX2\", F.element_at(\"split3\", 2))\\\n",
    "# .withColumn(\"split4\", F.split(\"BOS_FILE_EXTRACT\", \"<\")).withColumn(\"TAX1\", F.element_at(\"split4\", 2))\n",
    "# #df1.select('split2').show(2,truncate=False)\n",
    "# # print(len(rslt_dfRFT))"
   ],
   "metadata": {
    "trusted": true,
    "pycharm": {
     "name": "#%%\n"
    }
   },
   "execution_count": 23,
   "outputs": [
    {
     "name": "stdout",
     "text": "\n",
     "output_type": "stream"
    }
   ]
  },
  {
   "cell_type": "code",
   "source": [
    "# #df2.withColumn(\"TAX####\",split(split(\"TAX1\",\"<\")(1),\"\\\\)\")(0))\n",
    "# #withColumn(\"result\", sf.element_at(sf.split(\"TAX1\",\"<\"),1).cast(\"int\")).show()\n",
    "# from pyspark.sql.functions import split\n",
    "# split_df = df1.select(\"COLUMN_DEF\",\"DCI\",\"SAL\",\"TAX1\",\"TAX2\",\"ITI\",\"FAR\",\"FOP_AND_FAR2\",\"END\",\"CER\",\"EXC\",\"EXS\",split(df1.TAX1, '<').alias('split_text'),split(df1.FOP_AND_FAR2,'N<').alias(\"Splittext3\"))\n",
    "# #split(df1.FOP_AND_FAR2, '<').alias('split_text2')\n",
    "# #print(split_df[1])\n",
    "# #split_df2=split_df.selectExpr(\"DCI\",\"SAL\",\"concat(split_text[0],',',TAX2) as TAX\",\"ITI\",\"FAR\",\"Splittext3[1] as FOP\",\"END\",\"CER\",\"EXC\",\"EXS\")\n",
    "# #split_df.select('column_Def').show(2,truncate=False)\n",
    "# split_df_type=split_df.selectExpr(\"column_def\",\"DCI\",\"SAL\",\"concat(split_text[0],',',TAX2) as TAX\",\"ITI\",\"FAR\", \"Case when column_def=='PAT' then FOP_AND_FAR2 else Splittext3[1] end as FOP_T\",\"Case when column_def=='PAT' then CER else END end as END_T\",\"Case when column_def=='PAT' then EXC else CER end as CER_T\",\"Case when column_def=='PAT' then '' else EXC end as EXC_T\",\"Case when column_def=='PAT' then '' else CER end as EXS_T\")\n",
    "# #split_df.select('FOP_AND_FAR2').show(2,truncate=False)"
   ],
   "metadata": {
    "trusted": true,
    "pycharm": {
     "name": "#%%\n"
    }
   },
   "execution_count": 24,
   "outputs": [
    {
     "name": "stdout",
     "text": "\n",
     "output_type": "stream"
    }
   ]
  },
  {
   "cell_type": "code",
   "source": [
    "# # df2.write.options\n",
    "# split_df_type.coalesce(1).write.format('csv').option('header','true').mode(\"overwrite\").save(\"s3://bos-etl/write_back/\")"
   ],
   "metadata": {
    "trusted": true,
    "pycharm": {
     "name": "#%%\n"
    }
   },
   "execution_count": 5,
   "outputs": []
  },
  {
   "cell_type": "code",
   "source": [
    "# test\n",
    "# from pyspark.context import SparkContext\n",
    "# from awsglue.context import GlueContext\n",
    "# import boto3\n",
    "# import logging\n",
    "# import csv\n",
    "# import s3fs\n",
    "\n",
    "\n",
    "# sc = SparkContext.getOrCreate()\n",
    "# glueContext = GlueContext(sc)\n",
    "# spark = glueContext.spark_session\n",
    "\n",
    "# split_df_type = spark.read\\\n",
    "#     .format(\"csv\")\\\n",
    "#     .option(\"header\", \"true\")\\\n",
    "#     .load(\"s3://bos-etl/write_back/MXpart-00000-b90323cc-9f08-4e3d-b595-d86a795571c3-c000.csv\")"
   ],
   "metadata": {
    "trusted": true,
    "pycharm": {
     "name": "#%%\n"
    }
   },
   "execution_count": 6,
   "outputs": []
  },
  {
   "cell_type": "code",
   "execution_count": 1,
   "outputs": [
    {
     "name": "stderr",
     "output_type": "stream",
     "text": [
      "Setting default log level to \"WARN\".\n",
      "To adjust logging level use sc.setLogLevel(newLevel). For SparkR, use setLogLevel(newLevel).\n",
      "23/07/24 13:15:57 WARN NativeCodeLoader: Unable to load native-hadoop library for your platform... using builtin-java classes where applicable\n",
      "                                                                                \r"
     ]
    }
   ],
   "source": [
    "# test\n",
    "from pyspark.sql import SparkSession\n",
    "from pyspark.sql.functions import current_timestamp\n",
    "from pyspark.sql import functions as F\n",
    "import pyspark.sql.functions as f\n",
    "from pyspark.sql.functions import concat, col, lit\n",
    "from pyspark.sql.functions import udf\n",
    "import re\n",
    "from pyspark.sql.types import ArrayType, StringType\n",
    "import pandas as pd\n",
    "\n",
    "# sparkcontex\n",
    "spark = SparkSession.builder.appName('test').master('local[*]').getOrCreate()\n",
    "sc = spark.sparkContext\n",
    "\n",
    "# read csv\n",
    "split_df_type = spark.read.format('csv').\\\n",
    "        option('sep',',').\\\n",
    "        option('header',True).\\\n",
    "        load('source/input/87_leg.csv')"
   ],
   "metadata": {
    "collapsed": false,
    "pycharm": {
     "name": "#%%\n"
    }
   }
  },
  {
   "cell_type": "code",
   "source": [
    "# FTS - 2610  Commision: \"CAD\" - > \"USD\"\n",
    "from pyspark.sql.functions import when\n",
    "from pyspark.sql.functions import current_timestamp\n",
    "bos_df=split_df_type.withColumn(\"Transaction_Date\",current_timestamp()).withColumn(\"Source\",F.lit('BOS')).withColumn(\"Booking_channel\",F.lit('WEB')).withColumn(\"DCI_split\", F.split(\"DCI\", \"\")).withColumn(\"Agency_code\", F.element_at(\"DCI_split\", 2)).withColumn(\"Ticket_No\", concat(F.element_at(\"DCI_split\", 5),F.element_at(\"DCI_split\", 6))).withColumn(\"Issue_Date\", F.to_date(F.element_at(\"DCI_split\", 8),\"ddMMMyy\"))\\\n",
    ".withColumn(\"SAL_split\", F.split(\"SAL\", \"\")).withColumn(\"PNR\", F.element_at(\"SAL_split\", 15)).withColumn(\"Tour_code\", F.regexp_replace(F.element_at(\"SAL_split\", 17),'','')).withColumn(\"Passenger\", F.element_at(\"SAL_split\", 16)).withColumn(\"Passenger_rfnd\", F.element_at(\"SAL_split\", 22)).withColumn(\"Coupon_used\", F.element_at(\"SAL_split\", 7)).withColumn(\"Original_Fare\", F.element_at(\"SAL_split\", 9)).withColumn(\"Fare\", F.element_at(\"SAL_split\", 11)).withColumn(\"Org_currency\", F.element_at(\"SAL_split\", 10)).withColumn(\"Tax_Amt\", F.element_at(\"SAL_split\", 12)).withColumn(\"Total_amt\", F.element_at(\"SAL_split\", 8))\\\n",
    ".withColumn(\"ITI_split\", F.split(\"ITI\", \"<\"))\\\n",
    ".withColumn(\"Leg2\", F.element_at(\"ITI_split\", 13)).withColumn(\"Leg3\", F.element_at(\"ITI_split\", 22)).withColumn(\"Leg4\", F.element_at(\"ITI_split\", 31))\\\n",
    ".withColumn(\"FOP_split\", F.split(\"FOP_T\", \"\"))\\\n",
    ".withColumn(\"TAX_split\", F.split(\"tax\", \"<\"))\\\n",
    ".withColumn(\"Commission\", concat(F.lit('[{\"type\":\"BASE\",\"amount\":'),F.element_at(\"SAL_split\", 13),f.lit(',\"currency\":\"USD\",\"commissionRate\":'),F.element_at(\"SAL_split\", 14),f.lit('}]')))\\\n",
    ".withColumn(\"Fare_split\", F.split(\"FAR\", \"<\")).withColumn(\"FOP_split\", F.split(\"FOP_T\", \"<\"))\n",
    "\n",
    "# bos_df_csv=bos_df.selectExpr(\"ITI_split\",\"column_def\",\"Transaction_Date\",\"Agency_code\",\"'06.07_DCALLRECORDSAM' as Filename\",\"Source\",\"Booking_channel\",\"case when column_def=='PAX' then 'EXCH-TKTT' when column_def=='PAT' then 'TKTT' else 'RFND' end as ticket_type\", \"1 as version_no\",\"Ticket_No\",\"Issue_date\",\"PNR\",\"Tour_code\",\"case when column_def=='RFT' then passenger_rfnd else Passenger end as Passenger_name\",\"1 as Passenger_Count\",\"Coupon_used\",\"'USA' AS Country_code\",\"Original_Fare\",\"case when Fare==0 then original_fare else fare end as Fare_amt\",\"Org_currency\",\"(round(case when Fare==0 then original_fare else fare end)/Original_Fare, 3) as exch_rate\",\"case when Fare==0 then original_fare else fare end as comm_amt\",\"Tax_Amt\",\"Total_amt\",\"'USD' as curr_code\",\"ticket_no as org_ticket_no\",\"Commission\")\n",
    "\n",
    "#bos_df_csv.show(2, truncate=False)\n",
    "#print(bos_df.selectExpr(\"Transaction_Date\",\"Agency_code\",\"'06.07_DCALLRECORDSAM' as Filename\",\"Source\",\"Booking_channel\",\"case when column_def=='PAX' then 'EXCH-TKTT' when column_def=='PAT' then 'TKTT' else 'RFND' end as ticket_type\", \"1 as version_no\",\"Ticket_No\",\"Issue_date\",\"PNR\",\"Tour_code\",\"case when column_def=='RFT' then passenger_rfnd else Passenger end as Passenger_name\",\"1 as Passenger_Count\",\"Coupon_used\",\"'USA' AS Country_code\",\"Original_Fare\",\"case when Fare==0 then original_fare else fare end as Fare_amt\",\"Org_currency\",\"(case when Fare==0 then original_fare else fare end)/Org_currency as exch_rate\",\"case when Fare==0 then original_fare else fare end as comm_amt\",\"Tax_Amt\",\"Total_amt\",\"'USD' as curr_code\",\"Leg\",\"ticket_no as org_ticket_no\",\"Payment\",\"tax_json\",\"Commission\",\"Fare_cons_strt\").show(2,truncate=False))\n",
    "#bos_df_csv.select(\"ITI_split\").show(2,truncate=False)\n",
    "\n",
    "#bos_df_csv.coalesce(1).write.format('csv').option('header','true').mode(\"overwrite\").save(\"s3://bos-etl/write_back/bos.csv\")from pyspark.sql.functions import concat, col, lit "
   ],
   "metadata": {
    "trusted": true,
    "pycharm": {
     "name": "#%%\n"
    }
   },
   "execution_count": 2,
   "outputs": []
  },
  {
   "cell_type": "code",
   "source": [
    "### FTS - 2607\n",
    "bos_df_csv=bos_df.selectExpr(\"ITI_split\",\"column_def\",\"Transaction_Date\",\"Agency_code\",\"'06.07_DCALLRECORDSAM' as Filename\",\"Source\",\"Booking_channel\",\"case when column_def=='PAX' then 'EXCH-TKTT' when column_def=='PAT' then 'TKTT' else 'RFND' end as ticket_type\", \"1 as version_no\",\"Ticket_No\",\"Issue_date\",\"PNR\",\"Tour_code\",\"case when column_def=='RFT' then passenger_rfnd else Passenger end as Passenger_name\",\"1 as Passenger_Count\",\"Coupon_used\",\"'USA' AS Country_code\",\"Original_Fare\",\"case when Fare==0 then original_fare else fare end as Fare_amt\",\"Org_currency\",\"round((case when Fare==0 then original_fare else fare end)/Original_Fare,3) as exch_rate\",\"case when Fare==0 then original_fare else fare end as comm_amt\",\"Tax_Amt\",\"Total_amt\",\"'USD' as curr_code\",\"ticket_no as org_ticket_no\",\"Commission\",\"TAX_split\",\"FOP_split\",\"Fare_split\")"
   ],
   "metadata": {
    "trusted": true,
    "pycharm": {
     "name": "#%%\n"
    }
   },
   "execution_count": 3,
   "outputs": []
  },
  {
   "cell_type": "code",
   "execution_count": 4,
   "outputs": [
    {
     "name": "stderr",
     "output_type": "stream",
     "text": [
      "23/07/24 13:16:18 WARN package: Truncated the string representation of a plan since it was too large. This behavior can be adjusted by setting 'spark.sql.debug.maxToStringFields'.\n"
     ]
    },
    {
     "data": {
      "text/plain": "[Row(ITI_split=['\\x80\\x80X\\x80JFK\\x80LHR\\x80BA\\x800182\\x80S\\x8021DEC\\x802315\\x80SHXC07S7\\x80X\\x80LHR\\x80DOH\\x80BA\\x800123\\x80S\\x8022DEC\\x801425\\x80SHXC07S7\\x80O\\x80DOH\\x80LHE\\x80BA\\x806356\\x80S\\x8023DEC\\x800205\\x80SHXC07S7\\x80X\\x80LHE\\x80DOH\\x80BA\\x806187\\x80L\\x8007JAN\\x800305\\x80LHWC07S7\\x80', '2160767691\\x801\\x80X\\x80DOH\\x80LHR\\x80BA\\x800122\\x80L\\x8007JAN\\x800715\\x80LHWC07S7\\x80O\\x80LHR\\x80JFK\\x80BA\\x800177\\x80L\\x8007JAN\\x801320\\x80LHWC07S7\\x80V\\x80\\x80\\x80\\x80\\x80\\x80\\x80\\x80\\x80V\\x80\\x80\\x80\\x80\\x80\\x80\\x80\\x80\\x80'], column_def='PAT', Transaction_Date=datetime.datetime(2023, 7, 24, 13, 16, 18, 574119), Agency_code='22521623', Filename='06.07_DCALLRECORDSAM', Source='BOS', Booking_channel='WEB', ticket_type='TKTT', version_no=1, Ticket_No='1252160767690', Issue_date=datetime.date(2023, 6, 5), PNR='QWK3JN', Tour_code='', Passenger_name='KAZMI/AHSAN MAHMOOD MR', Passenger_Count=1, Coupon_used='FFFF/FFVV', Country_code='USA', Original_Fare='1136.00', Fare_amt='1136.00', Org_currency='USD', exch_rate=1.0, comm_amt='1136.00', Tax_Amt='891.65', Total_amt='2027.65', curr_code='USD', org_ticket_no='1252160767690', Commission='[{\"type\":\"BASE\",\"amount\":0.00,\"currency\":\"USD\",\"commissionRate\":0.00}]', TAX_split=['610.00\\x80YQ\\x80', '5.60\\x80AY\\x80', '21.10\\x80US\\x80', '21.10\\x80US\\x80', '3.83\\x80XA\\x80', '7.00\\x80XY\\x80', '6.52\\x80YC\\x80', '105.20\\x80UB\\x80', '33.00\\x80G4\\x80', '1.00\\x80PZ\\x80', '33.00\\x80QA\\x80', '5.40\\x80R9\\x80', '17.60\\x80RG\\x80', '7.00\\x80SP\\x80', '9.80\\x80YD\\x80', '4.50\\x80XF\\x80,\\x81JFK\\x804.5\\x80'], FOP_split=['CA\\x80CASH\\x80N\\x80\\x80\\x802027.65\\x80\\x80\\x802027.65\\x80\\x800.00\\x800.00\\x80N\\x80'], Fare_split=['NYC BA X/LON BA X/DOH BA LHE M494.50BA X/DOH BA X/LON BA NYC M641.50NUC1136.00END ROE1.\\x80', '000000 XF JFK4.5\\x80'])]"
     },
     "execution_count": 4,
     "metadata": {},
     "output_type": "execute_result"
    }
   ],
   "source": [
    "bos_df_csv.head(1)"
   ],
   "metadata": {
    "collapsed": false,
    "pycharm": {
     "name": "#%%\n"
    }
   }
  },
  {
   "cell_type": "code",
   "source": [
    "# FTS - 2609 Comment\n",
    "# import re\n",
    "\n",
    "# #for i in bos_df[\"Fare_split\"]:\n",
    "# #   bos_df_farecons = bos_df_csv.withColumn(f\"farecon{i}\", lit(f\"farecon{i}\"))\n",
    "# bos_df_collect = bos_df.select(\"Fare_split\").collect()\n",
    "# for row in bos_df_collect:\n",
    "#     #print(row[\"Fare_split\"])\n",
    "    \n",
    "#     li = row[\"Fare_split\"]\n",
    "#     #print(li)\n",
    "#     fare_v =''\n",
    "#     #print (fare_v)\n",
    "#     if li is not None:\n",
    "#         fare_end_v =[]\n",
    "#         fare_v ='['\n",
    "#         i=0\n",
    "#         #print (fare_v)\n",
    "#         for ii in li:\n",
    "#             i=i+1\n",
    "#             ii_split = ii.split(\"\")\n",
    "           \n",
    "#             if i>1: \n",
    "#                 fare_v = fare_v+ ',{\"sequence\":'+ str(i)+ ',\"content\":\"' + ii_split[0]  + '\"}'\n",
    "#                 fare = fare + ',' + ii_split[0]\n",
    "#             else:\n",
    "#                 fare_v = fare_v+ '{\"sequence\":'+ str(i)+ ',\"content\":\"' + ii_split[0]  + '\"}'\n",
    "#                 fare =  ii_split[0]\n",
    "#             #print (fare_v)\n",
    "#         fare_v=fare_v+']'\n",
    "#         #print(fare_v)\n",
    "#     fare_split = fare.split(\" \")\n",
    "#     #print(fare_split)\n",
    "    \n",
    "#     for element in fare_split:\n",
    "#         if element.endswith(\"END\"):\n",
    "#             fare_end_v = fare_end_v + [element]\n",
    "#             #fare_int = re.findall(r'\\d+.\\d+', element)\n",
    "#             #print(fare_int)\n",
    "#     bos_df_csv=bos_df_csv.withColumn(\"Fare_Cons\",F.lit(fare_v)).withColumn(\"Fare\",F.lit(fare)).withColumn(\"Fare_split\", F.split(\"Fare\", \" \")).withColumn(\"Fare_end\",F.array([F.lit(string) for string in fare_end_v]))\n",
    "# #.withColumn(\"Fare_end1\",F.array(fare_end))\n",
    "    \n",
    "    \n",
    "# #bos_df_csv.select(\"Fare_end\").show(2,truncate=False)"
   ],
   "metadata": {
    "trusted": true,
    "pycharm": {
     "name": "#%%\n"
    }
   },
   "execution_count": 5,
   "outputs": []
  },
  {
   "cell_type": "code",
   "source": [
    "# FTS - 2609\n",
    "def fc_Fare(li):\n",
    "    # print(row[\"Fare_split\"])\n",
    "\n",
    "    # li = row[\"Fare_split\"]\n",
    "    # print(li)\n",
    "    fare_v = ''\n",
    "    # print (fare_v)\n",
    "    if li is not None:\n",
    "        # FTS - 2609\n",
    "        # fare_end_v = []\n",
    "        fare_end_v = ''\n",
    "        fare_v = '['\n",
    "        i = 0\n",
    "        # print (fare_v)\n",
    "        for ii in li:\n",
    "            i = i + 1\n",
    "            ii_split = ii.split(\"\")\n",
    "\n",
    "            if i > 1:\n",
    "                fare_v = fare_v + ',{\"sequence\":' + str(i) + ',\"content\":\"' + ii_split[0] + '\"}'\n",
    "                fare = fare + ',' + ii_split[0]\n",
    "            else:\n",
    "                fare_v = fare_v + '{\"sequence\":' + str(i) + ',\"content\":\"' + ii_split[0] + '\"}'\n",
    "                fare = ii_split[0]\n",
    "            # print (fare_v)\n",
    "        fare_v = fare_v + ']'\n",
    "        # print(fare_v)\n",
    "    # FTS - 2609 spilt by \"END\" + \" \"\n",
    "    # fare_split = fare.split(\" \")\n",
    "    fare_split = fare.split(\"END\" + \" \")[0].split(\" \")\n",
    "    # print(fare_split)\n",
    "\n",
    "    for element in fare_split:\n",
    "        # FTS - 2609 add ~(element.startswith(\"Q\") & element[1].isdigit())\n",
    "        # if element.endswith(\"END\"):\n",
    "        if len(element) > 1:\n",
    "            if (False if (element.startswith(\"Q\") & element[1].isdigit()) else True):\n",
    "                # FTS - 2609 list -> str\n",
    "                fare_end_v = fare_end_v + element\n",
    "                # fare_end_v = fare_end_v + [element]\n",
    "                # fare_int = re.findall(r'\\d+.\\d+', element)\n",
    "                # print(fare_int)\n",
    "    # bos_df_csv = bos_df_csv.withColumn(\"Fare_Cons\", F.lit(fare_v)).withColumn(\"Fare\", F.lit(fare)).withColumn(\n",
    "    #     \"Fare_split\", F.split(\"Fare\", \" \")).withColumn(\"Fare_end\", F.array([F.lit(string) for string in fare_end_v]))\n",
    "# .withColumn(\"Fare_end1\",F.array(fare_end))\n",
    "    # fare_end_v_str = \"\".join(str(x) for x in fare_end_v)\n",
    "    return [fare_v, fare, fare_end_v]\n",
    "\n",
    "fc_Fare = udf(fc_Fare, ArrayType(StringType()))\n",
    "fc_Fare_list = fc_Fare('Fare_split')\n",
    "bos_df_csv = bos_df_csv.withColumn('Fare_Cons', fc_Fare_list[0])\\\n",
    "    .withColumn(\"Fare\", fc_Fare_list[1]).withColumn(\"Fare_end\",fc_Fare_list[2]).withColumn(\"Fare_split\", F.split(\"Fare\", \" \"))"
   ],
   "metadata": {
    "trusted": true,
    "pycharm": {
     "name": "#%%\n"
    }
   },
   "execution_count": 6,
   "outputs": []
  },
  {
   "cell_type": "code",
   "execution_count": 7,
   "outputs": [
    {
     "name": "stderr",
     "output_type": "stream",
     "text": [
      "                                                                                \r"
     ]
    },
    {
     "data": {
      "text/plain": "[Row(ITI_split=['\\x80\\x80X\\x80JFK\\x80LHR\\x80BA\\x800182\\x80S\\x8021DEC\\x802315\\x80SHXC07S7\\x80X\\x80LHR\\x80DOH\\x80BA\\x800123\\x80S\\x8022DEC\\x801425\\x80SHXC07S7\\x80O\\x80DOH\\x80LHE\\x80BA\\x806356\\x80S\\x8023DEC\\x800205\\x80SHXC07S7\\x80X\\x80LHE\\x80DOH\\x80BA\\x806187\\x80L\\x8007JAN\\x800305\\x80LHWC07S7\\x80', '2160767691\\x801\\x80X\\x80DOH\\x80LHR\\x80BA\\x800122\\x80L\\x8007JAN\\x800715\\x80LHWC07S7\\x80O\\x80LHR\\x80JFK\\x80BA\\x800177\\x80L\\x8007JAN\\x801320\\x80LHWC07S7\\x80V\\x80\\x80\\x80\\x80\\x80\\x80\\x80\\x80\\x80V\\x80\\x80\\x80\\x80\\x80\\x80\\x80\\x80\\x80'], column_def='PAT', Transaction_Date=datetime.datetime(2023, 7, 24, 13, 16, 22, 836837), Agency_code='22521623', Filename='06.07_DCALLRECORDSAM', Source='BOS', Booking_channel='WEB', ticket_type='TKTT', version_no=1, Ticket_No='1252160767690', Issue_date=datetime.date(2023, 6, 5), PNR='QWK3JN', Tour_code='', Passenger_name='KAZMI/AHSAN MAHMOOD MR', Passenger_Count=1, Coupon_used='FFFF/FFVV', Country_code='USA', Original_Fare='1136.00', Fare_amt='1136.00', Org_currency='USD', exch_rate=1.0, comm_amt='1136.00', Tax_Amt='891.65', Total_amt='2027.65', curr_code='USD', org_ticket_no='1252160767690', Commission='[{\"type\":\"BASE\",\"amount\":0.00,\"currency\":\"USD\",\"commissionRate\":0.00}]', TAX_split=['610.00\\x80YQ\\x80', '5.60\\x80AY\\x80', '21.10\\x80US\\x80', '21.10\\x80US\\x80', '3.83\\x80XA\\x80', '7.00\\x80XY\\x80', '6.52\\x80YC\\x80', '105.20\\x80UB\\x80', '33.00\\x80G4\\x80', '1.00\\x80PZ\\x80', '33.00\\x80QA\\x80', '5.40\\x80R9\\x80', '17.60\\x80RG\\x80', '7.00\\x80SP\\x80', '9.80\\x80YD\\x80', '4.50\\x80XF\\x80,\\x81JFK\\x804.5\\x80'], FOP_split=['CA\\x80CASH\\x80N\\x80\\x80\\x802027.65\\x80\\x80\\x802027.65\\x80\\x800.00\\x800.00\\x80N\\x80'], Fare_split=['NYC', 'BA', 'X/LON', 'BA', 'X/DOH', 'BA', 'LHE', 'M494.50BA', 'X/DOH', 'BA', 'X/LON', 'BA', 'NYC', 'M641.50NUC1136.00END', 'ROE1.,000000', 'XF', 'JFK4.5'], Fare_Cons='[{\"sequence\":1,\"content\":\"NYC BA X/LON BA X/DOH BA LHE M494.50BA X/DOH BA X/LON BA NYC M641.50NUC1136.00END ROE1.\"},{\"sequence\":2,\"content\":\"000000 XF JFK4.5\"}]', Fare='NYC BA X/LON BA X/DOH BA LHE M494.50BA X/DOH BA X/LON BA NYC M641.50NUC1136.00END ROE1.,000000 XF JFK4.5', Fare_end='NYCBAX/LONBAX/DOHBALHEM494.50BAX/DOHBAX/LONBANYCM641.50NUC1136.00')]"
     },
     "execution_count": 7,
     "metadata": {},
     "output_type": "execute_result"
    }
   ],
   "source": [
    "bos_df_csv.head(1)"
   ],
   "metadata": {
    "collapsed": false,
    "pycharm": {
     "name": "#%%\n"
    }
   }
  },
  {
   "cell_type": "code",
   "source": [
    "# FTS - 2607 Comment\n",
    "# bos_df_collect = bos_df.select(\"TAX_split\").collect()\n",
    "# for row in bos_df_collect:\n",
    "#     #print(row[\"TAX_split\"])\n",
    "#     li = row[\"TAX_split\"]\n",
    "#     tax_v =''\n",
    "#     if li is not None:\n",
    "#         #print(li)\n",
    "#         tax_v ='['\n",
    "#         i=0\n",
    "#         for ii in li:\n",
    "#             ii_split = ii.split(\",\")\n",
    "#             #print(ii_split)\n",
    "#             for i1 in ii_split:\n",
    "#                 i=i+1\n",
    "#                 i1_split = i1.split(\"\")\n",
    "#                 #print(i1_split)\n",
    "#                 if i>1:\n",
    "#                     tax_v = tax_v+ ',{\"type\":\"'+ i1_split[1] +'\"\",\"amount\":'+i1_split[0] +',\"currency\":\"' + \"Org_currency\" + '\"}'\n",
    "#                 else:\n",
    "#                     tax_v = tax_v+ '{\"type\":\"'+ i1_split[1] +'\"\",\"amount\":'+i1_split[0] +',\"currency\":\"' + \"Org_currency\" + '\"}'\n",
    "#         tax_v=tax_v+']'\n",
    "#         #print(tax_v)\n",
    "#     bos_df_csv=bos_df_csv.withColumn(\"Tax_v\",F.lit(tax_v))\n",
    "# bos_df_csv=bos_df_csv.selectExpr(\"ITI_split\",\"Fare_end\",\"column_def\",\"Transaction_Date\",\"Agency_code\",\"Filename\",\"Source\",\"Booking_channel\",\"ticket_type\", \"version_no\",\"Ticket_No\",\"Issue_date\",\"PNR\",\"Tour_code\",\"Passenger_name\",\"Passenger_Count\",\"Coupon_used\",\"Country_code\",\"Original_Fare\",\"Fare_amt\",\"Org_currency\",\"exch_rate\",\"comm_amt\",\"Tax_Amt\",\"Total_amt\",\"curr_code\",\"org_ticket_no\",\"Commission\",\"Fare_Cons\",\"case when column_def !='RFT' then replace(Tax_v,'Org_currency',Org_currency) end as Tax\")\n",
    "\n",
    "# #bos_df_csv.select(\"ITI_split\").show(2,truncate=False)\n",
    "\n"
   ],
   "metadata": {
    "trusted": true,
    "pycharm": {
     "name": "#%%\n"
    }
   },
   "execution_count": 8,
   "outputs": []
  },
  {
   "cell_type": "code",
   "source": [
    "# FTS - 2607\n",
    "from pyspark.sql.functions import udf\n",
    "from pyspark.sql.types import StringType\n",
    "def fc(li):\n",
    "        # li = row[\"TAX_split\"]\n",
    "    tax_v =''\n",
    "    if li is not None:\n",
    "        #print(li)\n",
    "        tax_v ='['\n",
    "        i=0\n",
    "        for ii in li:\n",
    "            ii_split = ii.split(\",\")\n",
    "            # FTS 2607 Bug 2 & 3 : filter string which not start with digit\n",
    "            ii_split = [x for x in ii_split if x[0].isdigit()]\n",
    "            #print(ii_split)\n",
    "            for i1 in ii_split:\n",
    "                i=i+1\n",
    "                i1_split = i1.split(\"\")\n",
    "                #print(i1_split)\n",
    "                if i>1:\n",
    "                    # FTS-2607 Bug 1\n",
    "                    tax_v = tax_v+ ',{\"type\":\"'+ i1_split[1] +'\",\"amount\":'+i1_split[0] +',\"currency\":\"' + \"Org_currency\" + '\"}'\n",
    "                else:\n",
    "                    # FTS-2607 Bug 1\n",
    "                    tax_v = tax_v+ '{\"type\":\"'+ i1_split[1] +'\",\"amount\":'+i1_split[0] +',\"currency\":\"' + \"Org_currency\" + '\"}'\n",
    "        tax_v=tax_v+']'\n",
    "    return tax_v\n",
    "\n",
    "fc = udf(fc, StringType())\n",
    "bos_df_csv = bos_df_csv.withColumn('Tax_v', fc('TAX_split'))\n",
    "bos_df_csv=bos_df_csv.selectExpr(\"ITI_split\",\"Fare_end\",\"column_def\",\"Transaction_Date\",\"Agency_code\",\"Filename\",\"Source\",\"Booking_channel\",\"ticket_type\", \"version_no\",\"Ticket_No\",\"Issue_date\",\"PNR\",\"Tour_code\",\"Passenger_name\",\"Passenger_Count\",\"Coupon_used\",\"Country_code\",\"Original_Fare\",\"Fare_amt\",\"Org_currency\",\"exch_rate\",\"comm_amt\",\"Tax_Amt\",\"Total_amt\",\"curr_code\",\"org_ticket_no\",\"Commission\",\"Fare_Cons\",\"case when column_def !='RFT' then replace(Tax_v,'Org_currency',Org_currency) end as Tax\",'FOP_split')"
   ],
   "metadata": {
    "trusted": true,
    "pycharm": {
     "name": "#%%\n"
    }
   },
   "execution_count": 9,
   "outputs": []
  },
  {
   "cell_type": "code",
   "execution_count": 10,
   "outputs": [
    {
     "data": {
      "text/plain": "[Row(ITI_split=['\\x80\\x80X\\x80JFK\\x80LHR\\x80BA\\x800182\\x80S\\x8021DEC\\x802315\\x80SHXC07S7\\x80X\\x80LHR\\x80DOH\\x80BA\\x800123\\x80S\\x8022DEC\\x801425\\x80SHXC07S7\\x80O\\x80DOH\\x80LHE\\x80BA\\x806356\\x80S\\x8023DEC\\x800205\\x80SHXC07S7\\x80X\\x80LHE\\x80DOH\\x80BA\\x806187\\x80L\\x8007JAN\\x800305\\x80LHWC07S7\\x80', '2160767691\\x801\\x80X\\x80DOH\\x80LHR\\x80BA\\x800122\\x80L\\x8007JAN\\x800715\\x80LHWC07S7\\x80O\\x80LHR\\x80JFK\\x80BA\\x800177\\x80L\\x8007JAN\\x801320\\x80LHWC07S7\\x80V\\x80\\x80\\x80\\x80\\x80\\x80\\x80\\x80\\x80V\\x80\\x80\\x80\\x80\\x80\\x80\\x80\\x80\\x80'], Fare_end='NYCBAX/LONBAX/DOHBALHEM494.50BAX/DOHBAX/LONBANYCM641.50NUC1136.00', column_def='PAT', Transaction_Date=datetime.datetime(2023, 7, 24, 13, 16, 31, 469316), Agency_code='22521623', Filename='06.07_DCALLRECORDSAM', Source='BOS', Booking_channel='WEB', ticket_type='TKTT', version_no=1, Ticket_No='1252160767690', Issue_date=datetime.date(2023, 6, 5), PNR='QWK3JN', Tour_code='', Passenger_name='KAZMI/AHSAN MAHMOOD MR', Passenger_Count=1, Coupon_used='FFFF/FFVV', Country_code='USA', Original_Fare='1136.00', Fare_amt='1136.00', Org_currency='USD', exch_rate=1.0, comm_amt='1136.00', Tax_Amt='891.65', Total_amt='2027.65', curr_code='USD', org_ticket_no='1252160767690', Commission='[{\"type\":\"BASE\",\"amount\":0.00,\"currency\":\"USD\",\"commissionRate\":0.00}]', Fare_Cons='[{\"sequence\":1,\"content\":\"NYC BA X/LON BA X/DOH BA LHE M494.50BA X/DOH BA X/LON BA NYC M641.50NUC1136.00END ROE1.\"},{\"sequence\":2,\"content\":\"000000 XF JFK4.5\"}]', Tax='[{\"type\":\"YQ\",\"amount\":610.00,\"currency\":\"USD\"},{\"type\":\"AY\",\"amount\":5.60,\"currency\":\"USD\"},{\"type\":\"US\",\"amount\":21.10,\"currency\":\"USD\"},{\"type\":\"US\",\"amount\":21.10,\"currency\":\"USD\"},{\"type\":\"XA\",\"amount\":3.83,\"currency\":\"USD\"},{\"type\":\"XY\",\"amount\":7.00,\"currency\":\"USD\"},{\"type\":\"YC\",\"amount\":6.52,\"currency\":\"USD\"},{\"type\":\"UB\",\"amount\":105.20,\"currency\":\"USD\"},{\"type\":\"G4\",\"amount\":33.00,\"currency\":\"USD\"},{\"type\":\"PZ\",\"amount\":1.00,\"currency\":\"USD\"},{\"type\":\"QA\",\"amount\":33.00,\"currency\":\"USD\"},{\"type\":\"R9\",\"amount\":5.40,\"currency\":\"USD\"},{\"type\":\"RG\",\"amount\":17.60,\"currency\":\"USD\"},{\"type\":\"SP\",\"amount\":7.00,\"currency\":\"USD\"},{\"type\":\"YD\",\"amount\":9.80,\"currency\":\"USD\"},{\"type\":\"XF\",\"amount\":4.50,\"currency\":\"USD\"}]', FOP_split=['CA\\x80CASH\\x80N\\x80\\x80\\x802027.65\\x80\\x80\\x802027.65\\x80\\x800.00\\x800.00\\x80N\\x80'])]"
     },
     "execution_count": 10,
     "metadata": {},
     "output_type": "execute_result"
    }
   ],
   "source": [
    "bos_df_csv.head(1)"
   ],
   "metadata": {
    "collapsed": false,
    "pycharm": {
     "name": "#%%\n"
    }
   }
  },
  {
   "cell_type": "code",
   "source": [
    "# FTS - 2606 Comment\n",
    "# bos_df_collect = bos_df.select(\"FOP_split\").collect()\n",
    "# for row in bos_df_collect:\n",
    "#     li = row[\"FOP_split\"]\n",
    "#     fop_v =''\n",
    "#     if li is not None:\n",
    "#         #print(li)\n",
    "#         fop_v ='['\n",
    "#         i=0\n",
    "#         for ii in li:\n",
    "#             ii_split = ii.split(\",\")\n",
    "#             #print(ii_split)\n",
    "#             for i1 in ii_split:\n",
    "#                 i=i+1\n",
    "#                 i1_split = i1.split(\"\")\n",
    "#                 #print(i1_split)\n",
    "#                 if i>1 :\n",
    "#                     fop_v = fop_v+ ',{\"mode\":\"'+ i1_split[0] +',\"type\":\"'+i1_split[0][:2] +'\",\"amount\":'+i1_split[5] +',\"accountNumber\":\"'+i1_split[1]+ '\",\"approvalCode\":\"'+i1_split[4]+'\",\"invoiceNumber\":\"\",\"invoiceNumber\":\"\",\"currency\":\"'+\"Org_currency\" + '\"}'\n",
    "#                 else:\n",
    "#                      fop_v = fop_v+ '{\"mode\":\"'+ i1_split[0] +',\"type\":\"'+i1_split[0][:2] +'\",\"amount\":'+i1_split[5] +',\"accountNumber\":\"'+i1_split[1]+ '\",\"approvalCode\":\"'+i1_split[4]+'\",\"invoiceNumber\":\"\",\"invoiceNumber\":\"\",\"currency\":\"'+\"Org_currency\" + '\"}'\n",
    "#         fop_v=fop_v+']'\n",
    "#         #print(fop_v) fop_v = fop_v+ '{\"mode\":\"'+ i1_split[0] +',\"type\":\"'+i1_split[0][:2] +'\",\"amount\":'+i1_split[5] +',\"accountNumber\":\"'+i1_split[1]+ '\",\"approvalCode\":\"'+i1_split[4]+'\",\"invoiceNumber\":\"\",\"invoiceNumber\":\"\",\"currency\":\"'+\"Org_currency\" + '\"}'\n",
    "#     bos_df_csv=bos_df_csv.withColumn(\"Fop_v\",F.lit(fop_v))\n",
    "# bos_df_csv=bos_df_csv.selectExpr(\"ITI_split\",\"Fare_end\",\"column_def\",\"Transaction_Date\",\"Agency_code\",\"Filename\",\"Source\",\"Booking_channel\",\"ticket_type\", \"version_no\",\"Ticket_No\",\"Issue_date\",\"PNR\",\"Tour_code\",\"Passenger_name\",\"Passenger_Count\",\"Coupon_used\",\"Country_code\",\"Original_Fare\",\"Fare_amt\",\"Org_currency\",\"exch_rate\",\"comm_amt\",\"Tax_Amt\",\"Total_amt\",\"curr_code\",\"org_ticket_no\",\"Commission\",\"Fare_Cons\",\"Tax\",\"case when column_def !='RFT' then replace(Fop_v,'Org_currency',Org_currency) end as FOP\")\n",
    "#     #print(fop_v)\n",
    "# #bos_df_csv.select(\"FOP\").show(2,truncate=False)"
   ],
   "metadata": {
    "trusted": true,
    "pycharm": {
     "name": "#%%\n"
    }
   },
   "execution_count": 11,
   "outputs": []
  },
  {
   "cell_type": "code",
   "source": [
    "# FTS - 2606\n",
    "def fc_FOP(li):\n",
    "    # li = row[\"FOP_split\"]\n",
    "    fop_v =''\n",
    "    if li is not None:\n",
    "        #print(li)\n",
    "        fop_v ='['\n",
    "        i=0\n",
    "        for ii in li:\n",
    "            ii_split = ii.split(\",\")\n",
    "            #print(ii_split)\n",
    "            for i1 in ii_split:\n",
    "                i=i+1\n",
    "                i1_split = i1.split(\"\")\n",
    "                #print(i1_split)\n",
    "                if i>1 :\n",
    "                    # FTS - 2606 \"mode\" add \",  mode <-> type\n",
    "                    fop_v = fop_v+ ',{\"mode\":\"'+ i1_split[0][:2] +'\",\"type\":\"'+ i1_split[0] +'\",\"amount\":'+i1_split[5] +',\"accountNumber\":\"'+i1_split[1]+ '\",\"approvalCode\":\"'+i1_split[4]+'\",\"invoiceNumber\":\"\",\"invoiceNumber\":\"\",\"currency\":\"'+\"Org_currency\" + '\"}'\n",
    "                else:\n",
    "                    # FTS - 2606 \"mode\" add \",  mode <-> type\n",
    "                    fop_v = fop_v+ '{\"mode\":\"'+ i1_split[0][:2] +'\",\"type\":\"'+ i1_split[0] +'\",\"amount\":'+i1_split[5] +',\"accountNumber\":\"'+i1_split[1]+ '\",\"approvalCode\":\"'+i1_split[4]+'\",\"invoiceNumber\":\"\",\"invoiceNumber\":\"\",\"currency\":\"'+\"Org_currency\" + '\"}'\n",
    "        fop_v=fop_v+']'\n",
    "    return fop_v\n",
    "\n",
    "fc_FOP = udf(fc_FOP, StringType())\n",
    "bos_df_csv = bos_df_csv.withColumn('Fop_v', fc_FOP('FOP_split')) \n",
    "bos_df_csv=bos_df_csv.selectExpr(\"ITI_split\",\"Fare_end\",\"column_def\",\"Transaction_Date\",\"Agency_code\",\"Filename\",\"Source\",\"Booking_channel\",\"ticket_type\", \"version_no\",\"Ticket_No\",\"Issue_date\",\"PNR\",\"Tour_code\",\"Passenger_name\",\"Passenger_Count\",\"Coupon_used\",\"Country_code\",\"Original_Fare\",\"Fare_amt\",\"Org_currency\",\"exch_rate\",\"comm_amt\",\"Tax_Amt\",\"Total_amt\",\"curr_code\",\"org_ticket_no\",\"Commission\",\"Fare_Cons\",\"Tax\",\"case when column_def !='RFT' then replace(Fop_v,'Org_currency',Org_currency) end as FOP\")"
   ],
   "metadata": {
    "trusted": true,
    "pycharm": {
     "name": "#%%\n"
    }
   },
   "execution_count": 12,
   "outputs": []
  },
  {
   "cell_type": "code",
   "execution_count": 13,
   "outputs": [
    {
     "data": {
      "text/plain": "[Row(ITI_split=['\\x80\\x80X\\x80JFK\\x80LHR\\x80BA\\x800182\\x80S\\x8021DEC\\x802315\\x80SHXC07S7\\x80X\\x80LHR\\x80DOH\\x80BA\\x800123\\x80S\\x8022DEC\\x801425\\x80SHXC07S7\\x80O\\x80DOH\\x80LHE\\x80BA\\x806356\\x80S\\x8023DEC\\x800205\\x80SHXC07S7\\x80X\\x80LHE\\x80DOH\\x80BA\\x806187\\x80L\\x8007JAN\\x800305\\x80LHWC07S7\\x80', '2160767691\\x801\\x80X\\x80DOH\\x80LHR\\x80BA\\x800122\\x80L\\x8007JAN\\x800715\\x80LHWC07S7\\x80O\\x80LHR\\x80JFK\\x80BA\\x800177\\x80L\\x8007JAN\\x801320\\x80LHWC07S7\\x80V\\x80\\x80\\x80\\x80\\x80\\x80\\x80\\x80\\x80V\\x80\\x80\\x80\\x80\\x80\\x80\\x80\\x80\\x80'], Fare_end='NYCBAX/LONBAX/DOHBALHEM494.50BAX/DOHBAX/LONBANYCM641.50NUC1136.00', column_def='PAT', Transaction_Date=datetime.datetime(2023, 7, 24, 13, 16, 34, 942563), Agency_code='22521623', Filename='06.07_DCALLRECORDSAM', Source='BOS', Booking_channel='WEB', ticket_type='TKTT', version_no=1, Ticket_No='1252160767690', Issue_date=datetime.date(2023, 6, 5), PNR='QWK3JN', Tour_code='', Passenger_name='KAZMI/AHSAN MAHMOOD MR', Passenger_Count=1, Coupon_used='FFFF/FFVV', Country_code='USA', Original_Fare='1136.00', Fare_amt='1136.00', Org_currency='USD', exch_rate=1.0, comm_amt='1136.00', Tax_Amt='891.65', Total_amt='2027.65', curr_code='USD', org_ticket_no='1252160767690', Commission='[{\"type\":\"BASE\",\"amount\":0.00,\"currency\":\"USD\",\"commissionRate\":0.00}]', Fare_Cons='[{\"sequence\":1,\"content\":\"NYC BA X/LON BA X/DOH BA LHE M494.50BA X/DOH BA X/LON BA NYC M641.50NUC1136.00END ROE1.\"},{\"sequence\":2,\"content\":\"000000 XF JFK4.5\"}]', Tax='[{\"type\":\"YQ\",\"amount\":610.00,\"currency\":\"USD\"},{\"type\":\"AY\",\"amount\":5.60,\"currency\":\"USD\"},{\"type\":\"US\",\"amount\":21.10,\"currency\":\"USD\"},{\"type\":\"US\",\"amount\":21.10,\"currency\":\"USD\"},{\"type\":\"XA\",\"amount\":3.83,\"currency\":\"USD\"},{\"type\":\"XY\",\"amount\":7.00,\"currency\":\"USD\"},{\"type\":\"YC\",\"amount\":6.52,\"currency\":\"USD\"},{\"type\":\"UB\",\"amount\":105.20,\"currency\":\"USD\"},{\"type\":\"G4\",\"amount\":33.00,\"currency\":\"USD\"},{\"type\":\"PZ\",\"amount\":1.00,\"currency\":\"USD\"},{\"type\":\"QA\",\"amount\":33.00,\"currency\":\"USD\"},{\"type\":\"R9\",\"amount\":5.40,\"currency\":\"USD\"},{\"type\":\"RG\",\"amount\":17.60,\"currency\":\"USD\"},{\"type\":\"SP\",\"amount\":7.00,\"currency\":\"USD\"},{\"type\":\"YD\",\"amount\":9.80,\"currency\":\"USD\"},{\"type\":\"XF\",\"amount\":4.50,\"currency\":\"USD\"}]', FOP='[{\"mode\":\"CA\",\"type\":\"CA\",\"amount\":2027.65,\"accountNumber\":\"CASH\",\"approvalCode\":\"\",\"invoiceNumber\":\"\",\"invoiceNumber\":\"\",\"currency\":\"USD\"}]')]"
     },
     "execution_count": 13,
     "metadata": {},
     "output_type": "execute_result"
    }
   ],
   "source": [
    "bos_df_csv.head(1)"
   ],
   "metadata": {
    "collapsed": false,
    "pycharm": {
     "name": "#%%\n"
    }
   }
  },
  {
   "cell_type": "code",
   "source": [
    "# FTS - 2608 Comment\n",
    "# from datetime import datetime\n",
    "# bos_df_collect = bos_df_csv.select(\"ITI_split\",\"Fare_end\").collect()\n",
    "# for row in bos_df_collect:\n",
    "#     #print(row)\n",
    "#     li = row[\"ITI_split\"]\n",
    "#     fare_row = row[\"Fare_end\"]\n",
    "#     leg_v =''\n",
    "#     if li is not None:\n",
    "#         #print(li)\n",
    "#         leg_v ='['\n",
    "#         i=0\n",
    "#         fareval = []\n",
    "#         for ii in li:\n",
    "#             ii_split = ii.split(\",\")\n",
    "#             #print(ii_split)\n",
    "#             for i1 in ii_split:\n",
    "#                 fareval = re.findall(r'\\d+.\\d+', str(fare_row))\n",
    "#                 if len(fareval)==0:\n",
    "#                     fareval=['0.00','0.00','0.00','0.00']\n",
    "#                 #print(fareval)\n",
    "#                 i=i+1\n",
    "#                 i1_split = i1.split(\"\")\n",
    "#                 if len(i1_split[0])!=0:\n",
    "#                     conj= i1_split[0]\n",
    "#                 else:\n",
    "#                     conj='CONJ'\n",
    "#                 if i>1:\n",
    "#                     if len(i1_split[3])!=0:\n",
    "#                         if len(i1_split[8])!=0:\n",
    "#                             dep_on = pd.datetime.strptime(i1_split[8]+ str(datetime.now().year),'%d%b%Y')\n",
    "#                         else:\n",
    "#                             dep_on= 'NULL'\n",
    "#                         if i1_split[2]=='X':\n",
    "#                             Fare = str('0.00')\n",
    "#                         else:\n",
    "#                             fare = fareval[0]\n",
    "#                         fare = str('0.00')                       \n",
    "#                         leg_v = leg_v+ ',{\"departure\":\"'+ i1_split[3] +'\",\"destination\":\"'+i1_split[4] +'\",\"seatClass\":\"' + i1_split[7] +'\",\"conjunction\":\"'+  conj +'\",\"carrier\":\"'+i1_split[5]+'\",\"tripCode\":\"'+i1_split[6]+'\",\"departureOn\":\"'+str(dep_on)+'\",\"designator\":\"'+i1_split[10]+'\",\"stopOver\":\"'+i1_split[2]+'\",\"flyerCode\":\"\",\"fare\":'+ fare +',\"currency\": \"CAD\",\"originalFare\":'+ fare +',\"originalCurrency\":\"'+'org_currency'+'\"}'\n",
    "#                     if len(i1_split[12])!=0:\n",
    "#                         if len(i1_split[17])!=0:\n",
    "#                             dep_on = pd.datetime.strptime(i1_split[17]+ str(datetime.now().year),'%d%b%Y')\n",
    "#                         else:\n",
    "#                             dep_on= 'NULL'\n",
    "#                         if i1_split[11]=='X':\n",
    "#                             fare = str('0.00')\n",
    "#                         else:\n",
    "#                             fare = fareval[1]   \n",
    "#                         leg_v = leg_v+ ',{\"departure\":\"'+ i1_split[12] +'\",\"destination\":\"'+i1_split[13] +'\",\"seatClass\":\"' + i1_split[16] +'\",\"conjunction\":\"'+  conj +'\",\"carrier\":\"'+i1_split[14]+'\",\"tripCode\":\"'+i1_split[15]+'\",\"departureOn\":\"'+str(dep_on)+'\",\"designator\":\"'+i1_split[19]+'\",\"stopOver\":\"'+i1_split[11]+'\",\"flyerCode\":\"\",\"fare\":'+ fare +',\"currency\": \"CAD\",\"originalFare\":'+ fare +',\"originalCurrency\":\"'+'org_currency'+'\"}'\n",
    "#                     if len(i1_split[21])!=0:\n",
    "#                         if len(i1_split[26])!=0:\n",
    "#                             dep_on = pd.datetime.strptime(i1_split[26]+ str(datetime.now().year),'%d%b%Y')\n",
    "#                         else:\n",
    "#                             dep_on= 'NULL'\n",
    "#                         if i1_split[20]=='X':\n",
    "#                             fare = str('0.00')\n",
    "#                         else:\n",
    "#                             fare = fareval[2]\n",
    "#                         leg_v = leg_v+ ',{\"departure\":\"'+ i1_split[21] +'\",\"destination\":\"'+i1_split[22] +'\",\"seatClass\":\"' + i1_split[25] +'\",\"conjunction\":\"'+  conj +'\",\"carrier\":\"'+i1_split[23]+'\",\"tripCode\":\"'+i1_split[24]+'\",\"departureOn\":\"'+str(dep_on)+'\",\"designator\":\"'+i1_split[28]+'\",\"stopOver\":\"'+i1_split[20]+'\",\"flyerCode\":\"\",\"fare\":'+ fare +',\"currency\": \"CAD\",\"originalFare\":'+ fare +',\"originalCurrency\":\"'+'org_currency'+'\"}'\n",
    "#                     if len(i1_split[30])!=0:\n",
    "#                         if len(i1_split[35])!=0:\n",
    "#                             dep_on = pd.datetime.strptime(i1_split[35]+ str(datetime.now().year),'%d%b%Y')\n",
    "#                         else:\n",
    "#                             dep_on= 'NULL'\n",
    "#                         if i1_split[29]=='X':\n",
    "#                             fare = str('0.00')\n",
    "#                         else:\n",
    "#                             fare = fareval[3]\n",
    "#                         leg_v = leg_v+ ',{\"departure\":\"'+ i1_split[30] +'\",\"destination\":\"'+i1_split[31] +'\",\"seatClass\":\"' + i1_split[34] +'\",\"conjunction\":\"'+  conj +'\",\"carrier\":\"'+i1_split[32]+'\",\"tripCode\":\"'+i1_split[33]+'\",\"departureOn\":\"'+str(dep_on)+'\",\"designator\":\"'+i1_split[37]+'\",\"stopOver\":\"'+i1_split[29]+'\",\"flyerCode\":\"\",\"fare\":'+ fare + ',\"currency\": \"CAD\",\"originalFare\":'+ fare +',\"originalCurrency\":\"'+'org_currency'+'\"}'\n",
    "        \n",
    "#                 else:              \n",
    "#                     #print(conj)\n",
    "#                     if len(i1_split[8])!=0:\n",
    "#                         dep_on = pd.datetime.strptime(i1_split[8]+ str(datetime.now().year),'%d%b%Y')\n",
    "#                     else:\n",
    "#                         dep_on= 'NULL'\n",
    "#                     if i1_split[2]=='X':\n",
    "#                         fare = str('0.00')\n",
    "#                     else:\n",
    "#                         fare = fareval[0]\n",
    "#                     leg_v = leg_v+ '{\"departure\":\"'+ i1_split[3] +'\",\"destination\":\"'+i1_split[4] +'\",\"seatClass\":\"' + i1_split[7] +'\",\"conjunction\":\"'+  conj +'\",\"carrier\":\"'+i1_split[5]+'\",\"tripCode\":\"'+i1_split[6]+'\",\"departureOn\":\"'+str(dep_on)+'\",\"designator\":\"'+i1_split[10]+'\",\"stopOver\":\"'+i1_split[2]+'\",\"flyerCode\":\"\",\"fare\":'+ fare +',\"currency\": \"CAD\",\"originalFare\":'+ fare +',\"originalCurrency\":\"'+'org_currency'+'\"}'\n",
    "#                 #print(pd.datetime.strptime(i1_split[8]+ str(datetime.now().year),'%d%b%Y'))\n",
    "#         leg_v=leg_v+']'\n",
    "#         #print(leg_v)\n",
    "#     bos_df_csv=bos_df_csv.withColumn(\"Leg_v1\",F.lit(leg_v))\n",
    "#     #.withColumn(\"Leg_v\",F.regexp_replace(\"Leg_v1\",'CONJ',bos_df_csv.Issue_date))\n",
    "    \n",
    "                                            \n",
    "# bos_df_csv=bos_df_csv.selectExpr(\"FOP\",\"column_def\",\"Transaction_Date\",\"Agency_code\",\"Filename\",\"Source\",\"Booking_channel\",\"ticket_type\", \"version_no\",\"Ticket_No\",\"Issue_date\",\"PNR\",\"Tour_code\",\"Passenger_name\",\"Passenger_Count\",\"Coupon_used\",\"Country_code\",\"Original_Fare\",\"Fare_amt\",\"Org_currency\",\"exch_rate\",\"comm_amt\",\"Tax_Amt\",\"Total_amt\",\"curr_code\",\"org_ticket_no\",\"Commission\",\"Fare_Cons\",\"Tax\",\"case when column_def !='RFT' then replace(replace(Leg_v1,'CONJ',Ticket_no),'org_currency',Org_currency) end as Legs\")\n",
    "    \n",
    "# #bos_df_csv.select(\"Legs\").show(2,truncate=False)\n"
   ],
   "metadata": {
    "trusted": true,
    "pycharm": {
     "name": "#%%\n"
    }
   },
   "execution_count": 14,
   "outputs": []
  },
  {
   "cell_type": "code",
   "source": [
    "from datetime import datetime\n",
    "# FTS - 2608 rewrtie function\n",
    "# FTS - 2608 \"currency\": \"CAD\" -> \"currency\": \"USD\"\n",
    "def fc_LEG(li, fare_row, ticket_no, issue_date):\n",
    "    #print(row)\n",
    "    # li = row[\"ITI_split\"]\n",
    "    # fare_row = row[\"Fare_end\"]\n",
    "    issue_year = issue_date.year\n",
    "    issue_date = issue_date.strftime('%Y-%m-%d')\n",
    "    leap_year = '2024' # not use this value just avoid error from strptime\n",
    "    leg_v =''\n",
    "    if li is not None:\n",
    "        #print(li)\n",
    "        leg_v ='[' # segment 1\n",
    "        leg_v_1 = '[' #segment 2\n",
    "        # i=0\n",
    "        # FTS - 2608\n",
    "        i = 0\n",
    "        j = 1 # index of fare , max len 2\n",
    "        fareval = []\n",
    "        if (len(li) > 1): # if two segment, reverse, direction right to left\n",
    "            li.reverse()\n",
    "            i = 3\n",
    "        for ii in li:\n",
    "            ii_split = ii.split(\",\")\n",
    "            #print(ii_split)\n",
    "            for i1 in ii_split:\n",
    "                fareval = re.findall(r'\\d+.\\d+', str(fare_row))\n",
    "                if len(fareval)==0:\n",
    "                    total_fareval = '0.00'\n",
    "                    fareval=['0.00','0.00','0.00','0.00']\n",
    "                else:\n",
    "                    total_fareval = fareval[-1]\n",
    "                    fareval = fareval[:-1]\n",
    "                #print(fareval)\n",
    "                i = i - 1 # reverse\n",
    "                i1_split = i1.split(\"\")\n",
    "                if len(i1_split[0])!=0:\n",
    "                    conj= ticket_no[0:3] + i1_split[0]\n",
    "                else:\n",
    "                    conj='CONJ'\n",
    "                    \n",
    "                if i>1:\n",
    "                   if len(i1_split[30])!=0:\n",
    "                        if len(i1_split[35])!=0:\n",
    "                            dep_day = datetime.strptime(i1_split[35] + leap_year,'%d%b%Y').strftime(\"%m-%d\")\n",
    "                            dep_year = str(issue_year) if dep_day >= issue_date[5:] else str(int(issue_year) + 1)\n",
    "                            dep_on = pd.datetime.strptime(i1_split[35]+ dep_year,'%d%b%Y')\n",
    "                        else:\n",
    "                            dep_on= 'NULL'\n",
    "                        if i1_split[29]=='X':\n",
    "                            fare = str('0.00')\n",
    "                        else:\n",
    "                            if (len(fareval) == 0):\n",
    "                                fare ='NULL'\n",
    "                            elif (j <= len(fareval)):\n",
    "                                fare = fareval[-j]\n",
    "                                j = j + 1\n",
    "                            else:\n",
    "                                fare = 'NULL'\n",
    "                                j = j + 1\n",
    "                        leg_v_1 = ',{\"departure\":\"'+ i1_split[30] +'\",\"destination\":\"'+i1_split[31] +'\",\"seatClass\":\"' +  i1_split[34] +'\",\"conjunction\":\"'+  conj +'\",\"carrier\":\"'+i1_split[32]+'\",\"tripCode\":\"'+i1_split[33]+'\",\"departureOn\":\"'+str(dep_on)+'\",\"designator\":\"'+i1_split[37]+'\",\"stopOver\":\"'+i1_split[29]+'\",\"flyerCode\":\"\",\"fare\":'+ fare + ',\"currency\": \"USD\",\"originalFare\":'+ fare +',\"originalCurrency\":\"'+'org_currency'+'\"}'\n",
    "\n",
    "                   if len(i1_split[21])!=0:\n",
    "                        if len(i1_split[26])!=0:\n",
    "                            dep_day = datetime.strptime(i1_split[26] + leap_year,'%d%b%Y').strftime(\"%m-%d\")\n",
    "                            dep_year = str(issue_year) if dep_day >= issue_date[5:] else str(int(issue_year) + 1)\n",
    "                            dep_on = pd.datetime.strptime(i1_split[26]+ dep_year,'%d%b%Y')\n",
    "                        else:\n",
    "                            dep_on= 'NULL'\n",
    "                        if i1_split[20]=='X':\n",
    "                            fare = str('0.00')\n",
    "                        else:\n",
    "                            if (len(fareval) == 0):\n",
    "                                fare ='NULL'\n",
    "                            elif (j <= len(fareval)):\n",
    "                                fare = fareval[-j]\n",
    "                                j = j + 1\n",
    "                            else:\n",
    "                                fare = 'NULL'\n",
    "                                j = j + 1\n",
    "                        leg_v_1 = '' if leg_v_1 == '[' else leg_v_1\n",
    "                        leg_v_1 = ',{\"departure\":\"'+ i1_split[21] +'\",\"destination\":\"'+i1_split[22] +'\",\"seatClass\":\"' + i1_split[25] +'\",\"conjunction\":\"'+  conj +'\",\"carrier\":\"'+i1_split[23]+'\",\"tripCode\":\"'+i1_split[24]+'\",\"departureOn\":\"'+str(dep_on)+'\",\"designator\":\"'+i1_split[28]+'\",\"stopOver\":\"'+i1_split[20]+'\",\"flyerCode\":\"\",\"fare\":'+ fare +',\"currency\": \"USD\",\"originalFare\":'+ fare +',\"originalCurrency\":\"'+'org_currency'+'\"}' + leg_v_1\n",
    "\n",
    "                   if len(i1_split[12])!=0:\n",
    "                        if len(i1_split[17])!=0:\n",
    "                            dep_day = datetime.strptime(i1_split[17] + leap_year,'%d%b%Y').strftime(\"%m-%d\")\n",
    "                            dep_year = str(issue_year) if dep_day >= issue_date[5:] else str(int(issue_year) + 1)\n",
    "                            dep_on = pd.datetime.strptime(i1_split[17]+ dep_year,'%d%b%Y')\n",
    "                        else:\n",
    "                            dep_on= 'NULL'\n",
    "                        if i1_split[11]=='X':\n",
    "                            fare = str('0.00')\n",
    "                        else:\n",
    "                            if (len(fareval) == 0):\n",
    "                                fare ='NULL'\n",
    "                            elif (j <= len(fareval)):\n",
    "                                fare = fareval[-j]\n",
    "                                j = j + 1\n",
    "                            else:\n",
    "                                fare = 'NULL'\n",
    "                                j = j + 1\n",
    "                        leg_v_1 = '' if leg_v_1 == '[' else leg_v_1\n",
    "                        leg_v_1 = ',{\"departure\":\"'+ i1_split[12] +'\",\"destination\":\"'+i1_split[13] +'\",\"seatClass\":\"' + i1_split[16] +'\",\"conjunction\":\"'+  conj +'\",\"carrier\":\"'+i1_split[14]+'\",\"tripCode\":\"'+i1_split[15]+'\",\"departureOn\":\"'+str(dep_on)+'\",\"designator\":\"'+i1_split[19]+'\",\"stopOver\":\"'+i1_split[11]+'\",\"flyerCode\":\"\",\"fare\":'+ fare +',\"currency\": \"USD\",\"originalFare\":'+ fare +',\"originalCurrency\":\"'+'org_currency'+'\"}' + leg_v_1\n",
    "\n",
    "                   if len(i1_split[3])!=0:\n",
    "                        if len(i1_split[8])!=0:\n",
    "                            dep_day = datetime.strptime(i1_split[8] + leap_year,'%d%b%Y').strftime(\"%m-%d\")\n",
    "                            dep_year = str(issue_year) if dep_day >= issue_date[5:] else str(int(issue_year) + 1)\n",
    "                            dep_on = pd.datetime.strptime(i1_split[8]+ dep_year,'%d%b%Y')\n",
    "                        else:\n",
    "                            dep_on= 'NULL'\n",
    "                        if i1_split[2]=='X':\n",
    "                            fare = str('0.00')\n",
    "                        else:\n",
    "                            if (len(fareval) == 0):\n",
    "                                fare ='NULL'\n",
    "                            elif (j <= len(fareval)):\n",
    "                                fare = fareval[-j]\n",
    "                                j = j + 1\n",
    "                            else:\n",
    "                                fare = 'NULL'\n",
    "                                j = j + 1\n",
    "\n",
    "                        leg_v_1 = '' if leg_v_1 == '[' else leg_v_1\n",
    "                        leg_v_1 = ',{\"departure\":\"'+ i1_split[3] +'\",\"destination\":\"'+i1_split[4] +'\",\"seatClass\":\"' + i1_split[7] +'\",\"conjunction\":\"'+  conj +'\",\"carrier\":\"'+i1_split[5]+'\",\"tripCode\":\"'+i1_split[6]+'\",\"departureOn\":\"'+str(dep_on)+'\",\"designator\":\"'+i1_split[10]+'\",\"stopOver\":\"'+i1_split[2]+'\",\"flyerCode\":\"\",\"fare\":'+ fare +',\"currency\": \"USD\",\"originalFare\":'+ fare +',\"originalCurrency\":\"'+'org_currency'+'\"}' + leg_v_1\n",
    "                \n",
    "                else:\n",
    "                    if len(i1_split[30])!=0:\n",
    "                        if len(i1_split[35])!=0:\n",
    "                            dep_day = datetime.strptime(i1_split[35] + leap_year,'%d%b%Y').strftime(\"%m-%d\")\n",
    "                            dep_year = str(issue_year) if dep_day >= issue_date[5:] else str(int(issue_year) + 1)\n",
    "                            dep_on = pd.datetime.strptime(i1_split[35]+ dep_year,'%d%b%Y')\n",
    "                        else:\n",
    "                            dep_on= 'NULL'\n",
    "                        if i1_split[29]=='X':\n",
    "                            fare = str('0.00')\n",
    "                        else:\n",
    "                            if (len(fareval) == 0):\n",
    "                                fare ='NULL'\n",
    "                            elif (j <= len(fareval)):\n",
    "                                fare = fareval[-j]\n",
    "                                j = j + 1\n",
    "                            else:\n",
    "                                fare = 'NULL'\n",
    "                                j = j + 1\n",
    "\n",
    "                        leg_v = ',{\"departure\":\"'+ i1_split[30] +'\",\"destination\":\"'+i1_split[31] +'\",\"seatClass\":\"' + i1_split[34] +'\",\"conjunction\":\"'+  conj +'\",\"carrier\":\"'+i1_split[32]+'\",\"tripCode\":\"'+i1_split[33]+'\",\"departureOn\":\"'+str(dep_on)+'\",\"designator\":\"'+i1_split[37]+'\",\"stopOver\":\"'+i1_split[29]+'\",\"flyerCode\":\"\",\"fare\":'+ fare + ',\"currency\": \"USD\",\"originalFare\":'+ fare +',\"originalCurrency\":\"'+'org_currency'+'\"}'\n",
    "\n",
    "                    if len(i1_split[21])!=0:\n",
    "                        if len(i1_split[26])!=0:\n",
    "                            dep_day = datetime.strptime(i1_split[26] + leap_year,'%d%b%Y').strftime(\"%m-%d\")\n",
    "                            dep_year = str(issue_year) if dep_day >= issue_date[5:] else str(int(issue_year) + 1)\n",
    "                            dep_on = pd.datetime.strptime(i1_split[26]+ dep_year,'%d%b%Y')\n",
    "                        else:\n",
    "                            dep_on= 'NULL'\n",
    "                        if i1_split[20]=='X':\n",
    "                            fare = str('0.00')\n",
    "                        else:\n",
    "                            if (len(fareval) == 0):\n",
    "                                fare ='NULL'\n",
    "                            elif (j <= len(fareval)):\n",
    "                                fare = fareval[-j]\n",
    "                                j = j + 1\n",
    "                            else:\n",
    "                                fare = 'NULL'\n",
    "                                j = j + 1\n",
    "                        leg_v = '' if leg_v == '[' else leg_v\n",
    "                        leg_v =  ',{\"departure\":\"'+ i1_split[21] +'\",\"destination\":\"'+i1_split[22] +'\",\"seatClass\":\"' + i1_split[25] +'\",\"conjunction\":\"'+  conj +'\",\"carrier\":\"'+i1_split[23]+'\",\"tripCode\":\"'+i1_split[24]+'\",\"departureOn\":\"'+str(dep_on)+'\",\"designator\":\"'+i1_split[28]+'\",\"stopOver\":\"'+i1_split[20]+'\",\"flyerCode\":\"\",\"fare\":'+ fare +',\"currency\": \"USD\",\"originalFare\":'+ fare +',\"originalCurrency\":\"'+'org_currency'+'\"}' + leg_v\n",
    "\n",
    "                    if len(i1_split[12])!=0:\n",
    "                        if len(i1_split[17])!=0:\n",
    "                            dep_day = datetime.strptime(i1_split[17] + leap_year,'%d%b%Y').strftime(\"%m-%d\")\n",
    "                            dep_year = str(issue_year) if dep_day >= issue_date[5:] else str(int(issue_year) + 1)\n",
    "                            dep_on = pd.datetime.strptime(i1_split[17]+ dep_year,'%d%b%Y')\n",
    "                        else:\n",
    "                            dep_on= 'NULL'\n",
    "                        if i1_split[11]=='X':\n",
    "                            fare = str('0.00')\n",
    "                        else:\n",
    "                            if (len(fareval) == 0):\n",
    "                                fare ='NULL'\n",
    "                            elif (j <= len(fareval)):\n",
    "                                fare = fareval[-j]\n",
    "                                j = j + 1\n",
    "                            else:\n",
    "                                fare = 'NULL'\n",
    "                                j = j + 1\n",
    "                        leg_v = '' if leg_v == '[' else leg_v\n",
    "                        leg_v =   ',{\"departure\":\"'+ i1_split[12] +'\",\"destination\":\"'+i1_split[13] +'\",\"seatClass\":\"' + i1_split[16] +'\",\"conjunction\":\"'+  conj +'\",\"carrier\":\"'+i1_split[14]+'\",\"tripCode\":\"'+i1_split[15]+'\",\"departureOn\":\"'+str(dep_on)+'\",\"designator\":\"'+i1_split[19]+'\",\"stopOver\":\"'+i1_split[11]+'\",\"flyerCode\":\"\",\"fare\":'+ fare +',\"currency\": \"USD\",\"originalFare\":'+ fare +',\"originalCurrency\":\"'+'org_currency'+'\"}' + leg_v\n",
    "\n",
    "                    if len(i1_split[3])!=0:\n",
    "                        #print(conj)\n",
    "                        if len(i1_split[8])!=0:\n",
    "                            dep_day = datetime.strptime(i1_split[8] + leap_year,'%d%b%Y').strftime(\"%m-%d\")\n",
    "                            dep_year = str(issue_year) if dep_day >= issue_date[5:] else str(int(issue_year) + 1)\n",
    "                            dep_on = pd.datetime.strptime(i1_split[8]+ dep_year,'%d%b%Y')\n",
    "                        else:\n",
    "                            dep_on= 'NULL'\n",
    "                        if i1_split[2]=='X':\n",
    "                            fare = str('0.00')\n",
    "                        else:\n",
    "                            if (len(fareval) == 0):\n",
    "                                fare ='NULL'\n",
    "                            elif (j <= len(fareval)):\n",
    "                                fare = fareval[-j]\n",
    "                                j = j + 1\n",
    "                            else:\n",
    "                                fare = 'NULL'\n",
    "                                j = j + 1\n",
    "                        leg_v = '' if leg_v == '[' else leg_v\n",
    "                        leg_v = '[{\"departure\":\"'+ i1_split[3] +'\",\"destination\":\"'+i1_split[4] +'\",\"seatClass\":\"' + i1_split[7] +'\",\"conjunction\":\"'+  conj +'\",\"carrier\":\"'+i1_split[5]+'\",\"tripCode\":\"'+i1_split[6]+'\",\"departureOn\":\"'+str(dep_on)+'\",\"designator\":\"'+i1_split[10]+'\",\"stopOver\":\"'+i1_split[2]+'\",\"flyerCode\":\"\",\"fare\":'+ fare +',\"currency\": \"USD\",\"originalFare\":'+ fare +',\"originalCurrency\":\"'+'org_currency'+'\"}' + leg_v\n",
    "                    \n",
    "                    # segment 1 + segment2\n",
    "                    leg_v_1 = '' if leg_v_1 == '[' else leg_v_1\n",
    "                    leg_v = leg_v + leg_v_1\n",
    "                #print(pd.datetime.strptime(i1_split[8]+ str(datetime.now().year),'%d%b%Y'))\n",
    "        leg_v=leg_v+']'\n",
    "\n",
    "        # attributes: len(leg) > len(fare)\n",
    "        attributes = '' if j == len(fareval) + 1 else ' # ' + 'FareLegMismatch:  leg: ' + str(j-1) +  'does not match fare: ' + str(len(fareval)) + ' # '\n",
    "\n",
    "        # atributes: total_fareval <> leg: fareval\n",
    "        leg_fer_sum = '%.2f'%sum([float(x[7:]) for x in re.findall(r'\\\"fare\\\"\\:\\d+\\.\\d+', leg_v)])\n",
    "        attributes = attributes if total_fareval == leg_fer_sum else '#' + 'FareAmountMismatch: Leg sum amount: ' + str(leg_fer_sum) + ' does not match fare amount: ' + str(total_fareval)  + ' # '\n",
    "    return [leg_v, attributes]\n",
    "\n",
    "fc_LEG = udf(fc_LEG, ArrayType(StringType()))\n",
    "fc_LEG_list = fc_LEG('ITI_split','Fare_end','Ticket_no','Issue_date')\n",
    "bos_df_csv = bos_df_csv.withColumn('Leg_v1', fc_LEG_list[0]).withColumn('attributes', fc_LEG_list[1])\n",
    "bos_df_csv=bos_df_csv.selectExpr(\"FOP\",\"column_def\",\"Transaction_Date\",\"Agency_code\",\"Filename\",\"Source\",\"Booking_channel\",\"ticket_type\", \"version_no\",\"Ticket_No\",\"Issue_date\",\"PNR\",\"Tour_code\",\"Passenger_name\",\"Passenger_Count\",\"Coupon_used\",\"Country_code\",\"Original_Fare\",\"Fare_amt\",\"Org_currency\",\"exch_rate\",\"comm_amt\",\"Tax_Amt\",\"Total_amt\",\"curr_code\",\"org_ticket_no\",\"Commission\",\"Fare_Cons\",\"Tax\",\"case when column_def !='RFT' then replace(replace(Leg_v1,'CONJ',Ticket_no),'org_currency',Org_currency) end as Legs\",\"attributes\")"
   ],
   "metadata": {
    "trusted": true,
    "pycharm": {
     "name": "#%%\n"
    }
   },
   "execution_count": 15,
   "outputs": []
  },
  {
   "cell_type": "code",
   "execution_count": 16,
   "outputs": [
    {
     "name": "stderr",
     "output_type": "stream",
     "text": [
      "/var/folders/d9/871p0v1d2cn4c6y7bj_xghhh0000gn/T/ipykernel_29541/3713799145.py:89: FutureWarning: The pandas.datetime class is deprecated and will be removed from pandas in a future version. Import from datetime module instead.\n",
      "/var/folders/d9/871p0v1d2cn4c6y7bj_xghhh0000gn/T/ipykernel_29541/3713799145.py:110: FutureWarning: The pandas.datetime class is deprecated and will be removed from pandas in a future version. Import from datetime module instead.\n",
      "/var/folders/d9/871p0v1d2cn4c6y7bj_xghhh0000gn/T/ipykernel_29541/3713799145.py:133: FutureWarning: The pandas.datetime class is deprecated and will be removed from pandas in a future version. Import from datetime module instead.\n",
      "/var/folders/d9/871p0v1d2cn4c6y7bj_xghhh0000gn/T/ipykernel_29541/3713799145.py:154: FutureWarning: The pandas.datetime class is deprecated and will be removed from pandas in a future version. Import from datetime module instead.\n",
      "/var/folders/d9/871p0v1d2cn4c6y7bj_xghhh0000gn/T/ipykernel_29541/3713799145.py:175: FutureWarning: The pandas.datetime class is deprecated and will be removed from pandas in a future version. Import from datetime module instead.\n",
      "/var/folders/d9/871p0v1d2cn4c6y7bj_xghhh0000gn/T/ipykernel_29541/3713799145.py:197: FutureWarning: The pandas.datetime class is deprecated and will be removed from pandas in a future version. Import from datetime module instead.\n",
      "                                                                                \r"
     ]
    },
    {
     "data": {
      "text/plain": "[Row(FOP='[{\"mode\":\"CA\",\"type\":\"CA\",\"amount\":2027.65,\"accountNumber\":\"CASH\",\"approvalCode\":\"\",\"invoiceNumber\":\"\",\"invoiceNumber\":\"\",\"currency\":\"USD\"}]', column_def='PAT', Transaction_Date=datetime.datetime(2023, 7, 24, 13, 17, 1, 191353), Agency_code='22521623', Filename='06.07_DCALLRECORDSAM', Source='BOS', Booking_channel='WEB', ticket_type='TKTT', version_no=1, Ticket_No='1252160767690', Issue_date=datetime.date(2023, 6, 5), PNR='QWK3JN', Tour_code='', Passenger_name='KAZMI/AHSAN MAHMOOD MR', Passenger_Count=1, Coupon_used='FFFF/FFVV', Country_code='USA', Original_Fare='1136.00', Fare_amt='1136.00', Org_currency='USD', exch_rate=1.0, comm_amt='1136.00', Tax_Amt='891.65', Total_amt='2027.65', curr_code='USD', org_ticket_no='1252160767690', Commission='[{\"type\":\"BASE\",\"amount\":0.00,\"currency\":\"USD\",\"commissionRate\":0.00}]', Fare_Cons='[{\"sequence\":1,\"content\":\"NYC BA X/LON BA X/DOH BA LHE M494.50BA X/DOH BA X/LON BA NYC M641.50NUC1136.00END ROE1.\"},{\"sequence\":2,\"content\":\"000000 XF JFK4.5\"}]', Tax='[{\"type\":\"YQ\",\"amount\":610.00,\"currency\":\"USD\"},{\"type\":\"AY\",\"amount\":5.60,\"currency\":\"USD\"},{\"type\":\"US\",\"amount\":21.10,\"currency\":\"USD\"},{\"type\":\"US\",\"amount\":21.10,\"currency\":\"USD\"},{\"type\":\"XA\",\"amount\":3.83,\"currency\":\"USD\"},{\"type\":\"XY\",\"amount\":7.00,\"currency\":\"USD\"},{\"type\":\"YC\",\"amount\":6.52,\"currency\":\"USD\"},{\"type\":\"UB\",\"amount\":105.20,\"currency\":\"USD\"},{\"type\":\"G4\",\"amount\":33.00,\"currency\":\"USD\"},{\"type\":\"PZ\",\"amount\":1.00,\"currency\":\"USD\"},{\"type\":\"QA\",\"amount\":33.00,\"currency\":\"USD\"},{\"type\":\"R9\",\"amount\":5.40,\"currency\":\"USD\"},{\"type\":\"RG\",\"amount\":17.60,\"currency\":\"USD\"},{\"type\":\"SP\",\"amount\":7.00,\"currency\":\"USD\"},{\"type\":\"YD\",\"amount\":9.80,\"currency\":\"USD\"},{\"type\":\"XF\",\"amount\":4.50,\"currency\":\"USD\"}]', Legs='[{\"departure\":\"JFK\",\"destination\":\"LHR\",\"seatClass\":\"S\",\"conjunction\":\"1252160767690\",\"carrier\":\"BA\",\"tripCode\":\"0182\",\"departureOn\":\"2023-12-21 00:00:00\",\"designator\":\"SHXC07S7\",\"stopOver\":\"X\",\"flyerCode\":\"\",\"fare\":0.00,\"currency\": \"USD\",\"originalFare\":0.00,\"originalCurrency\":\"USD\"},{\"departure\":\"LHR\",\"destination\":\"DOH\",\"seatClass\":\"S\",\"conjunction\":\"1252160767690\",\"carrier\":\"BA\",\"tripCode\":\"0123\",\"departureOn\":\"2023-12-22 00:00:00\",\"designator\":\"SHXC07S7\",\"stopOver\":\"X\",\"flyerCode\":\"\",\"fare\":0.00,\"currency\": \"USD\",\"originalFare\":0.00,\"originalCurrency\":\"USD\"},{\"departure\":\"DOH\",\"destination\":\"LHE\",\"seatClass\":\"S\",\"conjunction\":\"1252160767690\",\"carrier\":\"BA\",\"tripCode\":\"6356\",\"departureOn\":\"2023-12-23 00:00:00\",\"designator\":\"SHXC07S7\",\"stopOver\":\"O\",\"flyerCode\":\"\",\"fare\":494.50,\"currency\": \"USD\",\"originalFare\":494.50,\"originalCurrency\":\"USD\"},{\"departure\":\"LHE\",\"destination\":\"DOH\",\"seatClass\":\"L\",\"conjunction\":\"1252160767690\",\"carrier\":\"BA\",\"tripCode\":\"6187\",\"departureOn\":\"2024-01-07 00:00:00\",\"designator\":\"LHWC07S7\",\"stopOver\":\"X\",\"flyerCode\":\"\",\"fare\":0.00,\"currency\": \"USD\",\"originalFare\":0.00,\"originalCurrency\":\"USD\"},{\"departure\":\"DOH\",\"destination\":\"LHR\",\"seatClass\":\"L\",\"conjunction\":\"1252160767691\",\"carrier\":\"BA\",\"tripCode\":\"0122\",\"departureOn\":\"2024-01-07 00:00:00\",\"designator\":\"LHWC07S7\",\"stopOver\":\"X\",\"flyerCode\":\"\",\"fare\":0.00,\"currency\": \"USD\",\"originalFare\":0.00,\"originalCurrency\":\"USD\"},{\"departure\":\"LHR\",\"destination\":\"JFK\",\"seatClass\":\"L\",\"conjunction\":\"1252160767691\",\"carrier\":\"BA\",\"tripCode\":\"0177\",\"departureOn\":\"2024-01-07 00:00:00\",\"designator\":\"LHWC07S7\",\"stopOver\":\"O\",\"flyerCode\":\"\",\"fare\":641.50,\"currency\": \"USD\",\"originalFare\":641.50,\"originalCurrency\":\"USD\"}]', attributes='')]"
     },
     "execution_count": 16,
     "metadata": {},
     "output_type": "execute_result"
    }
   ],
   "source": [
    "bos_df_csv.head(1)"
   ],
   "metadata": {
    "collapsed": false,
    "pycharm": {
     "name": "#%%\n"
    }
   }
  },
  {
   "cell_type": "code",
   "execution_count": 17,
   "outputs": [],
   "source": [
    "bos_df_csv3 = bos_df_csv"
   ],
   "metadata": {
    "collapsed": false,
    "pycharm": {
     "name": "#%%\n"
    }
   }
  },
  {
   "cell_type": "code",
   "source": [
    "# Data Validation\n",
    "# def\n",
    "def check_float(data, msg, header, length, decimal = 0):\n",
    "    try:\n",
    "        data_1 = data\n",
    "        data = data if len(str(data).split('.')[0]) <= (length - decimal) else 'NULL'\n",
    "        msg = msg if str(data) == str(data_1) else msg + ' # ' + header + 'OutOfRange: ' + str(data_1) + 'is out of range of (' +  str(length) + ',' + str(decimal) + ' # '\n",
    "    except Exception as e:\n",
    "        data = 'NULL'\n",
    "        msg = msg + '# ERROR ' + str(e) + ' # '\n",
    "    return data, msg\n",
    "\n",
    "\n",
    "def fc_DV(attributes,original_fare, exchange_rate,fare_amount,tax_amount,total_amount):\n",
    "\n",
    "    # attributes\n",
    "    attributes = '' if attributes is None else attributes\n",
    "\n",
    "    # original_fare\n",
    "    # numeric(12, 5)\n",
    "    original_fare, attributes = check_float(data = original_fare, msg = attributes , header = 'original_fare', length = 12, decimal = 5)\n",
    "\n",
    "    # exchange_rate\n",
    "    # numeric(12, 5)\n",
    "    exchange_rate, attributes = check_float(data = exchange_rate, msg = attributes , header = 'exchange_rate', length = 12, decimal = 5)\n",
    "\n",
    "    # fare_amount\n",
    "    # numeric(12, 5)\n",
    "    fare_amount, attributes = check_float(data = fare_amount, msg = attributes , header = 'fare_amount', length = 12, decimal = 5)\n",
    "\n",
    "    # tax_amount\n",
    "    # numeric(12, 5)\n",
    "    tax_amount, attributes = check_float(data = tax_amount, msg = attributes , header = 'tax_amount', length = 12, decimal = 5)\n",
    "\n",
    "    # total_amount\n",
    "    # numeric(12, 5)\n",
    "    total_amount, attributes = check_float(data = total_amount, msg = attributes , header = 'total_amount', length = 12, decimal = 5)\n",
    "\n",
    "    return [attributes,original_fare,exchange_rate,fare_amount,tax_amount,total_amount]\n",
    "\n",
    "fc_DV = udf(fc_DV, ArrayType(StringType()))\n",
    "fc_DV_list = fc_DV('attributes', 'Original_Fare', 'exch_rate', 'Fare_amt', 'Tax_Amt', 'Total_amt')\n",
    "bos_df_csv = bos_df_csv\\\n",
    "    .withColumn('attributes', fc_DV_list[0])\\\n",
    "    .withColumn('Original_Fare', fc_DV_list[1])\\\n",
    "    .withColumn('exch_rate', fc_DV_list[2])\\\n",
    "    .withColumn('Fare_amt', fc_DV_list[3])\\\n",
    "    .withColumn('Tax_Amt', fc_DV_list[4])\\\n",
    "    .withColumn('Total_amt', fc_DV_list[5])"
   ],
   "metadata": {
    "trusted": true,
    "pycharm": {
     "name": "#%%\n"
    }
   },
   "execution_count": 18,
   "outputs": []
  },
  {
   "cell_type": "code",
   "execution_count": 19,
   "outputs": [
    {
     "name": "stderr",
     "output_type": "stream",
     "text": [
      "/var/folders/d9/871p0v1d2cn4c6y7bj_xghhh0000gn/T/ipykernel_29541/3713799145.py:89: FutureWarning: The pandas.datetime class is deprecated and will be removed from pandas in a future version. Import from datetime module instead.\n",
      "/var/folders/d9/871p0v1d2cn4c6y7bj_xghhh0000gn/T/ipykernel_29541/3713799145.py:110: FutureWarning: The pandas.datetime class is deprecated and will be removed from pandas in a future version. Import from datetime module instead.\n",
      "/var/folders/d9/871p0v1d2cn4c6y7bj_xghhh0000gn/T/ipykernel_29541/3713799145.py:133: FutureWarning: The pandas.datetime class is deprecated and will be removed from pandas in a future version. Import from datetime module instead.\n",
      "/var/folders/d9/871p0v1d2cn4c6y7bj_xghhh0000gn/T/ipykernel_29541/3713799145.py:154: FutureWarning: The pandas.datetime class is deprecated and will be removed from pandas in a future version. Import from datetime module instead.\n",
      "/var/folders/d9/871p0v1d2cn4c6y7bj_xghhh0000gn/T/ipykernel_29541/3713799145.py:175: FutureWarning: The pandas.datetime class is deprecated and will be removed from pandas in a future version. Import from datetime module instead.\n",
      "/var/folders/d9/871p0v1d2cn4c6y7bj_xghhh0000gn/T/ipykernel_29541/3713799145.py:197: FutureWarning: The pandas.datetime class is deprecated and will be removed from pandas in a future version. Import from datetime module instead.\n",
      "                                                                                \r"
     ]
    },
    {
     "data": {
      "text/plain": "[Row(FOP='[{\"mode\":\"CA\",\"type\":\"CA\",\"amount\":2027.65,\"accountNumber\":\"CASH\",\"approvalCode\":\"\",\"invoiceNumber\":\"\",\"invoiceNumber\":\"\",\"currency\":\"USD\"}]', column_def='PAT', Transaction_Date=datetime.datetime(2023, 7, 24, 13, 21, 14, 327900), Agency_code='22521623', Filename='06.07_DCALLRECORDSAM', Source='BOS', Booking_channel='WEB', ticket_type='TKTT', version_no=1, Ticket_No='1252160767690', Issue_date=datetime.date(2023, 6, 5), PNR='QWK3JN', Tour_code='', Passenger_name='KAZMI/AHSAN MAHMOOD MR', Passenger_Count=1, Coupon_used='FFFF/FFVV', Country_code='USA', Original_Fare='1136.00', Fare_amt='1136.00', Org_currency='USD', exch_rate='1.0', comm_amt='1136.00', Tax_Amt='891.65', Total_amt='2027.65', curr_code='USD', org_ticket_no='1252160767690', Commission='[{\"type\":\"BASE\",\"amount\":0.00,\"currency\":\"USD\",\"commissionRate\":0.00}]', Fare_Cons='[{\"sequence\":1,\"content\":\"NYC BA X/LON BA X/DOH BA LHE M494.50BA X/DOH BA X/LON BA NYC M641.50NUC1136.00END ROE1.\"},{\"sequence\":2,\"content\":\"000000 XF JFK4.5\"}]', Tax='[{\"type\":\"YQ\",\"amount\":610.00,\"currency\":\"USD\"},{\"type\":\"AY\",\"amount\":5.60,\"currency\":\"USD\"},{\"type\":\"US\",\"amount\":21.10,\"currency\":\"USD\"},{\"type\":\"US\",\"amount\":21.10,\"currency\":\"USD\"},{\"type\":\"XA\",\"amount\":3.83,\"currency\":\"USD\"},{\"type\":\"XY\",\"amount\":7.00,\"currency\":\"USD\"},{\"type\":\"YC\",\"amount\":6.52,\"currency\":\"USD\"},{\"type\":\"UB\",\"amount\":105.20,\"currency\":\"USD\"},{\"type\":\"G4\",\"amount\":33.00,\"currency\":\"USD\"},{\"type\":\"PZ\",\"amount\":1.00,\"currency\":\"USD\"},{\"type\":\"QA\",\"amount\":33.00,\"currency\":\"USD\"},{\"type\":\"R9\",\"amount\":5.40,\"currency\":\"USD\"},{\"type\":\"RG\",\"amount\":17.60,\"currency\":\"USD\"},{\"type\":\"SP\",\"amount\":7.00,\"currency\":\"USD\"},{\"type\":\"YD\",\"amount\":9.80,\"currency\":\"USD\"},{\"type\":\"XF\",\"amount\":4.50,\"currency\":\"USD\"}]', Legs='[{\"departure\":\"JFK\",\"destination\":\"LHR\",\"seatClass\":\"S\",\"conjunction\":\"1252160767690\",\"carrier\":\"BA\",\"tripCode\":\"0182\",\"departureOn\":\"2023-12-21 00:00:00\",\"designator\":\"SHXC07S7\",\"stopOver\":\"X\",\"flyerCode\":\"\",\"fare\":0.00,\"currency\": \"USD\",\"originalFare\":0.00,\"originalCurrency\":\"USD\"},{\"departure\":\"LHR\",\"destination\":\"DOH\",\"seatClass\":\"S\",\"conjunction\":\"1252160767690\",\"carrier\":\"BA\",\"tripCode\":\"0123\",\"departureOn\":\"2023-12-22 00:00:00\",\"designator\":\"SHXC07S7\",\"stopOver\":\"X\",\"flyerCode\":\"\",\"fare\":0.00,\"currency\": \"USD\",\"originalFare\":0.00,\"originalCurrency\":\"USD\"},{\"departure\":\"DOH\",\"destination\":\"LHE\",\"seatClass\":\"S\",\"conjunction\":\"1252160767690\",\"carrier\":\"BA\",\"tripCode\":\"6356\",\"departureOn\":\"2023-12-23 00:00:00\",\"designator\":\"SHXC07S7\",\"stopOver\":\"O\",\"flyerCode\":\"\",\"fare\":494.50,\"currency\": \"USD\",\"originalFare\":494.50,\"originalCurrency\":\"USD\"},{\"departure\":\"LHE\",\"destination\":\"DOH\",\"seatClass\":\"L\",\"conjunction\":\"1252160767690\",\"carrier\":\"BA\",\"tripCode\":\"6187\",\"departureOn\":\"2024-01-07 00:00:00\",\"designator\":\"LHWC07S7\",\"stopOver\":\"X\",\"flyerCode\":\"\",\"fare\":0.00,\"currency\": \"USD\",\"originalFare\":0.00,\"originalCurrency\":\"USD\"},{\"departure\":\"DOH\",\"destination\":\"LHR\",\"seatClass\":\"L\",\"conjunction\":\"1252160767691\",\"carrier\":\"BA\",\"tripCode\":\"0122\",\"departureOn\":\"2024-01-07 00:00:00\",\"designator\":\"LHWC07S7\",\"stopOver\":\"X\",\"flyerCode\":\"\",\"fare\":0.00,\"currency\": \"USD\",\"originalFare\":0.00,\"originalCurrency\":\"USD\"},{\"departure\":\"LHR\",\"destination\":\"JFK\",\"seatClass\":\"L\",\"conjunction\":\"1252160767691\",\"carrier\":\"BA\",\"tripCode\":\"0177\",\"departureOn\":\"2024-01-07 00:00:00\",\"designator\":\"LHWC07S7\",\"stopOver\":\"O\",\"flyerCode\":\"\",\"fare\":641.50,\"currency\": \"USD\",\"originalFare\":641.50,\"originalCurrency\":\"USD\"}]', attributes='')]"
     },
     "execution_count": 19,
     "metadata": {},
     "output_type": "execute_result"
    }
   ],
   "source": [
    "bos_df_csv3.head(1)"
   ],
   "metadata": {
    "collapsed": false,
    "pycharm": {
     "name": "#%%\n"
    }
   }
  },
  {
   "cell_type": "code",
   "source": [
    "import sys\n",
    "from awsglue.transforms import *\n",
    "from awsglue.utils import getResolvedOptions\n",
    "from pyspark.context import SparkContext\n",
    "from awsglue.context import GlueContext\n",
    "from awsglue.job import Job\n",
    "from awsglue.dynamicframe import DynamicFrame\n",
    "\n",
    "sc = SparkContext.getOrCreate();\n",
    "glueContext = GlueContext(sc)\n",
    "spark = glueContext.spark_session\n",
    "\n",
    "my_conn_options = {\n",
    "    \"dbtable\": \"flextravel.fx_trans_file\",\n",
    "    \"database\": \"fts_cp_uat\",\n",
    "    \"url\": \"jdbc:postgresql://flextravel-uat-serverless-pg.chzjoncadzav.ca-central-1.rds.amazonaws.com:5432/fts_cp_uat\",\n",
    "    \"customJdbcDriverS3Path\":\"s3://flex-data-uat-canda-central/DEV/postgresql-42.6.0.jar\",\n",
    "    \"customJdbcDriverClassName\":\"org.postgresql.Driver\",\n",
    "    \"user\":\"flexuatuser\",\n",
    "    \"password\":\"flexnewyearpwd@2022\"\n",
    "}\n",
    "\n",
    "my_conn_options1 = {\n",
    "    \"dbtable\": \"flextravel.general_info\",\n",
    "    \"database\": \"fts_cp_uat\",\n",
    "    \"url\": \"jdbc:postgresql://flextravel-uat-serverless-pg.chzjoncadzav.ca-central-1.rds.amazonaws.com:5432/fts_cp_uat\",\n",
    "    \"customJdbcDriverS3Path\":\"s3://flex-data-uat-canda-central/DEV/postgresql-42.6.0.jar\",\n",
    "    \"customJdbcDriverClassName\":\"org.postgresql.Driver\",\n",
    "    \"user\":\"flexuatuser\",\n",
    "    \"password\":\"flexnewyearpwd@2022\"\n",
    "}\n",
    "\n",
    "my_conn_options2 = {\n",
    "    \"dbtable\": \"public.fx_trans_bre_interim_bos\",\n",
    "    \"database\": \"fts_cp_uat\",\n",
    "    \"url\": \"jdbc:postgresql://flextravel-uat-serverless-pg.chzjoncadzav.ca-central-1.rds.amazonaws.com:5432/fts_cp_uat\",\n",
    "    \"customJdbcDriverS3Path\":\"s3://flex-data-uat-canda-central/DEV/postgresql-42.6.0.jar\",\n",
    "    \"customJdbcDriverClassName\":\"org.postgresql.Driver\",\n",
    "    \"user\":\"flexuatuser\",\n",
    "    \"password\":\"flexnewyearpwd@2022\"\n",
    "}\n",
    "\n",
    "df = glueContext.create_dynamic_frame.from_options(\n",
    "    connection_type=\"postgresql\",\n",
    "    connection_options=my_conn_options,\n",
    "    transformation_ctx=\"df\",\n",
    ")\n",
    "\n",
    "df_GI = glueContext.create_dynamic_frame.from_options(\n",
    "    connection_type=\"postgresql\",\n",
    "    connection_options=my_conn_options1,\n",
    "    transformation_ctx=\"df\",\n",
    ")\n",
    "GI_df = df_GI.toDF().select(\"id\",\"tids_code\")  \n",
    "\n",
    "\n",
    "\n",
    "bos_df_csv=  bos_df_csv.withColumn( \"Orginal_currency\",F.when(length(col(\"Org_currency\"))>5,'').otherwise(bos_df_csv.Org_currency))\n",
    "\n",
    "\n",
    "bos_df_final = bos_df_csv.select(\"ticket_type\",\"org_ticket_no\",\"version_no\",\"Filename\",\"Transaction_Date\",\"Agency_code\",\"Source\",\"Booking_channel\",\"Ticket_No\",\"PNR\",\"Issue_date\",\"Tour_code\",\"Passenger_name\",\"Passenger_Count\",\"Coupon_used\",\"Country_code\",\"Legs\",\"Original_Fare\",\"Orginal_currency\",\"exch_rate\",\"Fare_amt\",\"Tax_Amt\",\"Total_amt\",\"curr_code\",\"FOP\",\"Tax\",\"Commission\",\"Fare_Cons\",\"attributes\")\n",
    "                                                           \n",
    "Bos_df_GI= bos_df_final.join(GI_df,\n",
    "               bos_df_csv.Agency_code == GI_df.tids_code, \n",
    "               \"left\")  \n",
    "\n",
    "\n",
    "Bos_df_GI=Bos_df_GI.withColumnRenamed(\"id\",\"agent_id\")\n",
    "\n",
    "#Bos_df_GI.show(2, truncate=False)\n",
    "\n",
    "# df1 = df.toDF().select(\"id\", \"supplier_id\",\"sup_srv_map_id\",\"file_name\").where(df[\"file_name\"] =='06.07_DCALLRECORDSAM')\n",
    "# #df2=df1.withColumnRenamed(\"sup_srv_map_id\",\"col0\").withColumnRenamed(\"file_name\",\"col1\")\n",
    "# # df1 = df.filter(f=lambda x: x[\"sup_srv_map_id\"] in [65])\n",
    "\n",
    "df1 = df.toDF()[\"id\", \"supplier_id\",\"sup_srv_map_id\",\"file_name\"]\n",
    "df1 = df1[df1[\"file_name\"] =='06.07_DCALLRECORDSAM']\n",
    "\n",
    "\n",
    "#df1.show()\n",
    "\n",
    "Bos_df_file= Bos_df_GI.join(df1,\n",
    "               bos_df_csv.Filename == df1.file_name, \n",
    "               \"left\")    \n",
    "\n",
    "# Bos_df_file.show()\n",
    "\n",
    "# FTS - 2598 [\"Tax_Amt\"].cast(IntegerType()) -> DoubleType, [\"Total_amt\"].cast(IntegerType()) -> DoubleType\n",
    "Bos_df_file= Bos_df_file.withColumn(\"Original_Fare\", Bos_df_file[\"Original_Fare\"].cast(DoubleType())).withColumn(\"Fare_amt\", Bos_df_file[\"Fare_amt\"].cast(DoubleType())).withColumn(\"Tax_Amt\", Bos_df_file[\"Tax_Amt\"].cast(DoubleType()))\\\n",
    "            .withColumn(\"Total_amt\", Bos_df_file[\"Total_amt\"].cast(DoubleType())) .withColumn(\"exch_rate\", Bos_df_file[\"exch_rate\"].cast(DoubleType()))\n",
    "\n",
    "Bos_df_file= Bos_df_file.withColumn(\"Commission_Amount\", Bos_df_file[\"Fare_amt\"].cast(IntegerType()))\n",
    "                        \n",
    "Bos_df_write = Bos_df_file.select(\"Transaction_Date\",\"Agency_code\",\"Source\",\"Booking_channel\",\"Ticket_No\",\"PNR\",\"Issue_date\",\"Tour_code\",\"Passenger_name\",\"Passenger_Count\",\"Coupon_used\",\"Country_code\",\"Legs\",\"Original_Fare\",\"Orginal_currency\",\"exch_rate\",\"Fare_amt\",\"Tax_Amt\",\"Total_amt\",\"curr_code\",\"FOP\",\"Tax\",\"Commission\",\"Fare_Cons\",\"agent_id\",\"id\",\"supplier_id\",\"sup_srv_map_id\",\"ticket_type\",\"version_no\",\"org_ticket_no\",\"Commission_Amount\",\"attributes\")\n",
    "\n",
    "\n",
    "Bos_df_write = Bos_df_write.withColumnRenamed(\"Transaction_Date\",\"transaction_date\").withColumnRenamed(\"Agency_code\",\"agency_code\").withColumnRenamed(\"Source\",\"source\").withColumnRenamed(\"id\",\"trans_file_id\")\\\n",
    "                .withColumnRenamed(\"Booking_channel\",\"booking_channel\").withColumnRenamed(\"Ticket_No\",\"ticket_number\").withColumnRenamed(\"PNR\",\"pnr\").withColumnRenamed(\"Issue_date\",\"issue_date\").withColumnRenamed(\"Tour_code\",\"tour_code\")\\\n",
    "                .withColumnRenamed(\"Passenger_name\",\"passenger_name\").withColumnRenamed(\"Passenger_Count\",\"passenger_count\").withColumnRenamed(\"Coupon_used\",\"coupon_used\").withColumnRenamed(\"Country_code\",\"country_code\")\\\n",
    "                .withColumnRenamed(\"Legs\",\"legs\").withColumnRenamed(\"Original_Fare\",\"original_fare\").withColumnRenamed(\"Orginal_currency\",\"original_currency\").withColumnRenamed(\"exch_rate\",\"exchange_rate\").withColumnRenamed(\"Fare_amt\",\"fare_amount\")\\\n",
    "                .withColumnRenamed(\"Commission_Amount\",\"commission_amount\").withColumnRenamed(\"Tax_Amt\",\"tax_amount\").withColumnRenamed(\"Total_amt\",\"total_amount\").withColumnRenamed(\"curr_code\",\"currency_code\").withColumnRenamed(\"FOP\",\"payment\")\\\n",
    "                .withColumnRenamed(\"Tax\",\"tax\") .withColumnRenamed(\"Commission\",\"commission\").withColumnRenamed(\"Fare_Cons\",\"fare_construction\")\n"
   ],
   "metadata": {
    "trusted": true,
    "pycharm": {
     "name": "#%%\n"
    }
   },
   "execution_count": 17,
   "outputs": [
    {
     "name": "stdout",
     "text": "\n",
     "output_type": "stream"
    }
   ]
  },
  {
   "cell_type": "code",
   "source": [
    "Bos_df_write_dyn=DynamicFrame.fromDF(Bos_df_write,glueContext,'Bos_df_write_dyn')\n",
    "\n",
    "df3=glueContext.write_dynamic_frame_from_options(\n",
    "    frame=Bos_df_write_dyn,\n",
    "    connection_type=\"postgresql\",\n",
    "    connection_options=my_conn_options2,\n",
    "    transformation_ctx=\"dynamic_frame\"\n",
    ")\n",
    "#df3.show()"
   ],
   "metadata": {
    "trusted": true,
    "pycharm": {
     "name": "#%%\n"
    }
   },
   "execution_count": 27,
   "outputs": [
    {
     "name": "stdout",
     "text": "\n",
     "output_type": "stream"
    }
   ]
  },
  {
   "cell_type": "code",
   "source": [
    "# # mini batch test\n",
    "# from pyspark.sql import SQLContext\n",
    "# sqlContest = SQLContext(sc)\n",
    "\n",
    "# i = 0\n",
    "# k = 19000\n",
    "# j = 100\n",
    "\n",
    "# while (i+j < k):\n",
    "#     print(i)\n",
    "\n",
    "#     try:\n",
    "#         pdk = Bos_df_write.toPandas()\n",
    "#         pd1 = pdk.loc[i:i+j][:].fillna(0)\n",
    "#         spark_df = sqlContest.createDataFrame(pd1)\n",
    "        \n",
    "#         Bos_df_write_dyn1=DynamicFrame.fromDF(spark_df,glueContext,'Bos_df_write_dyn')\n",
    "\n",
    "#         df3=glueContext.write_dynamic_frame_from_options(\n",
    "#             frame=Bos_df_write_dyn1,\n",
    "#             connection_type=\"postgresql\",\n",
    "#             connection_options=my_conn_options2,\n",
    "#             transformation_ctx=\"dynamic_frame\"\n",
    "#         )\n",
    "#     except Exception as e:\n",
    "#         print(e)\n",
    "#     finally:\n",
    "#         i = i + j\n",
    "\n",
    "    \n",
    "\n",
    "\n",
    "\n",
    "    \n",
    "    "
   ],
   "metadata": {
    "trusted": true,
    "pycharm": {
     "name": "#%%\n"
    }
   },
   "execution_count": 1,
   "outputs": [
    {
     "name": "stdout",
     "text": "Welcome to the Glue Interactive Sessions Kernel\nFor more information on available magic commands, please type %help in any new cell.\n\nPlease view our Getting Started page to access the most up-to-date information on the Interactive Sessions kernel: https://docs.aws.amazon.com/glue/latest/dg/interactive-sessions.html\nInstalled kernel version: 0.37.3 \nAuthenticating with environment variables and user-defined glue_role_arn: arn:aws:iam::251954244960:role/aws-glue-role\nTrying to create a Glue session for the kernel.\nWorker Type: G.1X\nNumber of Workers: 5\nSession ID: 94e43814-4481-46a2-bd42-9a375b67a951\nJob Type: glueetl\nApplying the following default arguments:\n--glue_kernel_version 0.37.3\n--enable-glue-datacatalog true\nWaiting for session 94e43814-4481-46a2-bd42-9a375b67a951 to get into ready status...\nSession 94e43814-4481-46a2-bd42-9a375b67a951 has been created.\n\n",
     "output_type": "stream"
    }
   ]
  },
  {
   "cell_type": "code",
   "source": [],
   "metadata": {
    "pycharm": {
     "name": "#%%\n"
    }
   },
   "execution_count": null,
   "outputs": []
  }
 ]
}